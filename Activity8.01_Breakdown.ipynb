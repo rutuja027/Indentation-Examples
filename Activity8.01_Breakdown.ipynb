{
 "cells": [
  {
   "cell_type": "markdown",
   "metadata": {},
   "source": [
    "# Loading and Cleaning Our Data"
   ]
  },
  {
   "cell_type": "markdown",
   "metadata": {},
   "source": [
    "Import the required packages:"
   ]
  },
  {
   "cell_type": "code",
   "execution_count": 1,
   "metadata": {
    "colab": {},
    "colab_type": "code",
    "id": "n431w89rPLKr"
   },
   "outputs": [],
   "source": [
    "import pandas as pd\n",
    "import numpy as np\n",
    "import seaborn as sns\n",
    "import matplotlib.pyplot as plt\n"
   ]
  },
  {
   "cell_type": "markdown",
   "metadata": {},
   "source": [
    "Installing plotly"
   ]
  },
  {
   "cell_type": "code",
   "execution_count": 2,
   "metadata": {
    "colab": {},
    "colab_type": "code",
    "id": "lHqs13rB7TWb"
   },
   "outputs": [
    {
     "name": "stdout",
     "output_type": "stream",
     "text": [
      "Requirement already satisfied: plotly in /srv/conda/envs/notebook/lib/python3.7/site-packages (4.8.1)\r\n",
      "Requirement already satisfied: retrying>=1.3.3 in /srv/conda/envs/notebook/lib/python3.7/site-packages (from plotly) (1.3.3)\r\n",
      "Requirement already satisfied: six in /srv/conda/envs/notebook/lib/python3.7/site-packages (from plotly) (1.15.0)\r\n"
     ]
    }
   ],
   "source": [
    "!pip install plotly"
   ]
  },
  {
   "cell_type": "markdown",
   "metadata": {},
   "source": [
    "Import plotly.express from the installed package:"
   ]
  },
  {
   "cell_type": "code",
   "execution_count": 3,
   "metadata": {
    "colab": {},
    "colab_type": "code",
    "id": "K14FmydI8yiZ"
   },
   "outputs": [],
   "source": [
    "import plotly.express as px"
   ]
  },
  {
   "cell_type": "markdown",
   "metadata": {},
   "source": [
    "Store each of the CSV files in two different DataFrames:"
   ]
  },
  {
   "cell_type": "code",
   "execution_count": 4,
   "metadata": {
    "colab": {
     "base_uri": "https://localhost:8080/",
     "height": 204
    },
    "colab_type": "code",
    "id": "TcMb3U0rPLKy",
    "outputId": "ff4c213d-c992-4608-aba2-bb41e3ec8a90"
   },
   "outputs": [
    {
     "data": {
      "text/html": [
       "<div>\n",
       "<style scoped>\n",
       "    .dataframe tbody tr th:only-of-type {\n",
       "        vertical-align: middle;\n",
       "    }\n",
       "\n",
       "    .dataframe tbody tr th {\n",
       "        vertical-align: top;\n",
       "    }\n",
       "\n",
       "    .dataframe thead th {\n",
       "        text-align: right;\n",
       "    }\n",
       "</style>\n",
       "<table border=\"1\" class=\"dataframe\">\n",
       "  <thead>\n",
       "    <tr style=\"text-align: right;\">\n",
       "      <th></th>\n",
       "      <th>Invoice</th>\n",
       "      <th>StockCode</th>\n",
       "      <th>Description</th>\n",
       "      <th>Quantity</th>\n",
       "      <th>InvoiceDate</th>\n",
       "      <th>Price</th>\n",
       "      <th>Customer ID</th>\n",
       "      <th>Country</th>\n",
       "    </tr>\n",
       "  </thead>\n",
       "  <tbody>\n",
       "    <tr>\n",
       "      <td>0</td>\n",
       "      <td>489434</td>\n",
       "      <td>85048</td>\n",
       "      <td>15CM CHRISTMAS GLASS BALL 20 LIGHTS</td>\n",
       "      <td>12</td>\n",
       "      <td>01/12/2009 07:45</td>\n",
       "      <td>6.95</td>\n",
       "      <td>13085.0</td>\n",
       "      <td>United Kingdom</td>\n",
       "    </tr>\n",
       "    <tr>\n",
       "      <td>1</td>\n",
       "      <td>489434</td>\n",
       "      <td>79323P</td>\n",
       "      <td>PINK CHERRY LIGHTS</td>\n",
       "      <td>12</td>\n",
       "      <td>01/12/2009 07:45</td>\n",
       "      <td>6.75</td>\n",
       "      <td>13085.0</td>\n",
       "      <td>United Kingdom</td>\n",
       "    </tr>\n",
       "    <tr>\n",
       "      <td>2</td>\n",
       "      <td>489434</td>\n",
       "      <td>79323W</td>\n",
       "      <td>WHITE CHERRY LIGHTS</td>\n",
       "      <td>12</td>\n",
       "      <td>01/12/2009 07:45</td>\n",
       "      <td>6.75</td>\n",
       "      <td>13085.0</td>\n",
       "      <td>United Kingdom</td>\n",
       "    </tr>\n",
       "    <tr>\n",
       "      <td>3</td>\n",
       "      <td>489434</td>\n",
       "      <td>22041</td>\n",
       "      <td>RECORD FRAME 7\" SINGLE SIZE</td>\n",
       "      <td>48</td>\n",
       "      <td>01/12/2009 07:45</td>\n",
       "      <td>2.10</td>\n",
       "      <td>13085.0</td>\n",
       "      <td>United Kingdom</td>\n",
       "    </tr>\n",
       "    <tr>\n",
       "      <td>4</td>\n",
       "      <td>489434</td>\n",
       "      <td>21232</td>\n",
       "      <td>STRAWBERRY CERAMIC TRINKET BOX</td>\n",
       "      <td>24</td>\n",
       "      <td>01/12/2009 07:45</td>\n",
       "      <td>1.25</td>\n",
       "      <td>13085.0</td>\n",
       "      <td>United Kingdom</td>\n",
       "    </tr>\n",
       "  </tbody>\n",
       "</table>\n",
       "</div>"
      ],
      "text/plain": [
       "  Invoice StockCode                          Description  Quantity  \\\n",
       "0  489434     85048  15CM CHRISTMAS GLASS BALL 20 LIGHTS        12   \n",
       "1  489434    79323P                   PINK CHERRY LIGHTS        12   \n",
       "2  489434    79323W                  WHITE CHERRY LIGHTS        12   \n",
       "3  489434     22041         RECORD FRAME 7\" SINGLE SIZE         48   \n",
       "4  489434     21232       STRAWBERRY CERAMIC TRINKET BOX        24   \n",
       "\n",
       "        InvoiceDate  Price  Customer ID         Country  \n",
       "0  01/12/2009 07:45   6.95      13085.0  United Kingdom  \n",
       "1  01/12/2009 07:45   6.75      13085.0  United Kingdom  \n",
       "2  01/12/2009 07:45   6.75      13085.0  United Kingdom  \n",
       "3  01/12/2009 07:45   2.10      13085.0  United Kingdom  \n",
       "4  01/12/2009 07:45   1.25      13085.0  United Kingdom  "
      ]
     },
     "execution_count": 4,
     "metadata": {},
     "output_type": "execute_result"
    }
   ],
   "source": [
    "r09 = pd.read_csv('https://raw.githubusercontent.com/PacktWorkshops/The-Data-Analysis-Workshop/master/Chapter08/Datasets/online_retail_II.csv')\n",
    "r09.head()"
   ]
  },
  {
   "cell_type": "markdown",
   "metadata": {},
   "source": [
    "Similarly, create the second DataFrame:"
   ]
  },
  {
   "cell_type": "code",
   "execution_count": 5,
   "metadata": {
    "colab": {
     "base_uri": "https://localhost:8080/",
     "height": 204
    },
    "colab_type": "code",
    "id": "ivxDwC8dPLK2",
    "outputId": "25734ecf-dc11-4c8e-dd27-4ee35f4b38f3"
   },
   "outputs": [
    {
     "data": {
      "text/html": [
       "<div>\n",
       "<style scoped>\n",
       "    .dataframe tbody tr th:only-of-type {\n",
       "        vertical-align: middle;\n",
       "    }\n",
       "\n",
       "    .dataframe tbody tr th {\n",
       "        vertical-align: top;\n",
       "    }\n",
       "\n",
       "    .dataframe thead th {\n",
       "        text-align: right;\n",
       "    }\n",
       "</style>\n",
       "<table border=\"1\" class=\"dataframe\">\n",
       "  <thead>\n",
       "    <tr style=\"text-align: right;\">\n",
       "      <th></th>\n",
       "      <th>Invoice</th>\n",
       "      <th>StockCode</th>\n",
       "      <th>Description</th>\n",
       "      <th>Quantity</th>\n",
       "      <th>InvoiceDate</th>\n",
       "      <th>Price</th>\n",
       "      <th>Customer ID</th>\n",
       "      <th>Country</th>\n",
       "    </tr>\n",
       "  </thead>\n",
       "  <tbody>\n",
       "    <tr>\n",
       "      <td>0</td>\n",
       "      <td>536365</td>\n",
       "      <td>85123A</td>\n",
       "      <td>WHITE HANGING HEART T-LIGHT HOLDER</td>\n",
       "      <td>6</td>\n",
       "      <td>01/12/2010 08:26</td>\n",
       "      <td>2.55</td>\n",
       "      <td>17850.0</td>\n",
       "      <td>United Kingdom</td>\n",
       "    </tr>\n",
       "    <tr>\n",
       "      <td>1</td>\n",
       "      <td>536365</td>\n",
       "      <td>71053</td>\n",
       "      <td>WHITE METAL LANTERN</td>\n",
       "      <td>6</td>\n",
       "      <td>01/12/2010 08:26</td>\n",
       "      <td>3.39</td>\n",
       "      <td>17850.0</td>\n",
       "      <td>United Kingdom</td>\n",
       "    </tr>\n",
       "    <tr>\n",
       "      <td>2</td>\n",
       "      <td>536365</td>\n",
       "      <td>84406B</td>\n",
       "      <td>CREAM CUPID HEARTS COAT HANGER</td>\n",
       "      <td>8</td>\n",
       "      <td>01/12/2010 08:26</td>\n",
       "      <td>2.75</td>\n",
       "      <td>17850.0</td>\n",
       "      <td>United Kingdom</td>\n",
       "    </tr>\n",
       "    <tr>\n",
       "      <td>3</td>\n",
       "      <td>536365</td>\n",
       "      <td>84029G</td>\n",
       "      <td>KNITTED UNION FLAG HOT WATER BOTTLE</td>\n",
       "      <td>6</td>\n",
       "      <td>01/12/2010 08:26</td>\n",
       "      <td>3.39</td>\n",
       "      <td>17850.0</td>\n",
       "      <td>United Kingdom</td>\n",
       "    </tr>\n",
       "    <tr>\n",
       "      <td>4</td>\n",
       "      <td>536365</td>\n",
       "      <td>84029E</td>\n",
       "      <td>RED WOOLLY HOTTIE WHITE HEART.</td>\n",
       "      <td>6</td>\n",
       "      <td>01/12/2010 08:26</td>\n",
       "      <td>3.39</td>\n",
       "      <td>17850.0</td>\n",
       "      <td>United Kingdom</td>\n",
       "    </tr>\n",
       "  </tbody>\n",
       "</table>\n",
       "</div>"
      ],
      "text/plain": [
       "  Invoice StockCode                          Description  Quantity  \\\n",
       "0  536365    85123A   WHITE HANGING HEART T-LIGHT HOLDER         6   \n",
       "1  536365     71053                  WHITE METAL LANTERN         6   \n",
       "2  536365    84406B       CREAM CUPID HEARTS COAT HANGER         8   \n",
       "3  536365    84029G  KNITTED UNION FLAG HOT WATER BOTTLE         6   \n",
       "4  536365    84029E       RED WOOLLY HOTTIE WHITE HEART.         6   \n",
       "\n",
       "        InvoiceDate  Price  Customer ID         Country  \n",
       "0  01/12/2010 08:26   2.55      17850.0  United Kingdom  \n",
       "1  01/12/2010 08:26   3.39      17850.0  United Kingdom  \n",
       "2  01/12/2010 08:26   2.75      17850.0  United Kingdom  \n",
       "3  01/12/2010 08:26   3.39      17850.0  United Kingdom  \n",
       "4  01/12/2010 08:26   3.39      17850.0  United Kingdom  "
      ]
     },
     "execution_count": 5,
     "metadata": {},
     "output_type": "execute_result"
    }
   ],
   "source": [
    "r10 = pd.read_csv('https://raw.githubusercontent.com/PacktWorkshops/The-Data-Analysis-Workshop/master/Chapter08/Datasets/online_retail_II2.csv')\n",
    "r10.head()"
   ]
  },
  {
   "cell_type": "markdown",
   "metadata": {},
   "source": [
    "Concatenate the two DataFrames into one called retail using the .concat() function and add the keys 09-10 and 10-11:"
   ]
  },
  {
   "cell_type": "code",
   "execution_count": 6,
   "metadata": {
    "colab": {
     "base_uri": "https://localhost:8080/",
     "height": 419
    },
    "colab_type": "code",
    "id": "A-9Hc-HvPLK5",
    "outputId": "b125cdd3-5ad0-452d-adcb-95d6263c4e33"
   },
   "outputs": [
    {
     "data": {
      "text/html": [
       "<div>\n",
       "<style scoped>\n",
       "    .dataframe tbody tr th:only-of-type {\n",
       "        vertical-align: middle;\n",
       "    }\n",
       "\n",
       "    .dataframe tbody tr th {\n",
       "        vertical-align: top;\n",
       "    }\n",
       "\n",
       "    .dataframe thead th {\n",
       "        text-align: right;\n",
       "    }\n",
       "</style>\n",
       "<table border=\"1\" class=\"dataframe\">\n",
       "  <thead>\n",
       "    <tr style=\"text-align: right;\">\n",
       "      <th></th>\n",
       "      <th></th>\n",
       "      <th>Invoice</th>\n",
       "      <th>StockCode</th>\n",
       "      <th>Description</th>\n",
       "      <th>Quantity</th>\n",
       "      <th>InvoiceDate</th>\n",
       "      <th>Price</th>\n",
       "      <th>Customer ID</th>\n",
       "      <th>Country</th>\n",
       "    </tr>\n",
       "  </thead>\n",
       "  <tbody>\n",
       "    <tr>\n",
       "      <td rowspan=\"5\" valign=\"top\">09-10</td>\n",
       "      <td>0</td>\n",
       "      <td>489434</td>\n",
       "      <td>85048</td>\n",
       "      <td>15CM CHRISTMAS GLASS BALL 20 LIGHTS</td>\n",
       "      <td>12</td>\n",
       "      <td>01/12/2009 07:45</td>\n",
       "      <td>6.95</td>\n",
       "      <td>13085.0</td>\n",
       "      <td>United Kingdom</td>\n",
       "    </tr>\n",
       "    <tr>\n",
       "      <td>1</td>\n",
       "      <td>489434</td>\n",
       "      <td>79323P</td>\n",
       "      <td>PINK CHERRY LIGHTS</td>\n",
       "      <td>12</td>\n",
       "      <td>01/12/2009 07:45</td>\n",
       "      <td>6.75</td>\n",
       "      <td>13085.0</td>\n",
       "      <td>United Kingdom</td>\n",
       "    </tr>\n",
       "    <tr>\n",
       "      <td>2</td>\n",
       "      <td>489434</td>\n",
       "      <td>79323W</td>\n",
       "      <td>WHITE CHERRY LIGHTS</td>\n",
       "      <td>12</td>\n",
       "      <td>01/12/2009 07:45</td>\n",
       "      <td>6.75</td>\n",
       "      <td>13085.0</td>\n",
       "      <td>United Kingdom</td>\n",
       "    </tr>\n",
       "    <tr>\n",
       "      <td>3</td>\n",
       "      <td>489434</td>\n",
       "      <td>22041</td>\n",
       "      <td>RECORD FRAME 7\" SINGLE SIZE</td>\n",
       "      <td>48</td>\n",
       "      <td>01/12/2009 07:45</td>\n",
       "      <td>2.10</td>\n",
       "      <td>13085.0</td>\n",
       "      <td>United Kingdom</td>\n",
       "    </tr>\n",
       "    <tr>\n",
       "      <td>4</td>\n",
       "      <td>489434</td>\n",
       "      <td>21232</td>\n",
       "      <td>STRAWBERRY CERAMIC TRINKET BOX</td>\n",
       "      <td>24</td>\n",
       "      <td>01/12/2009 07:45</td>\n",
       "      <td>1.25</td>\n",
       "      <td>13085.0</td>\n",
       "      <td>United Kingdom</td>\n",
       "    </tr>\n",
       "    <tr>\n",
       "      <td>...</td>\n",
       "      <td>...</td>\n",
       "      <td>...</td>\n",
       "      <td>...</td>\n",
       "      <td>...</td>\n",
       "      <td>...</td>\n",
       "      <td>...</td>\n",
       "      <td>...</td>\n",
       "      <td>...</td>\n",
       "      <td>...</td>\n",
       "    </tr>\n",
       "    <tr>\n",
       "      <td rowspan=\"5\" valign=\"top\">10-11</td>\n",
       "      <td>541905</td>\n",
       "      <td>581587</td>\n",
       "      <td>22899</td>\n",
       "      <td>CHILDREN'S APRON DOLLY GIRL</td>\n",
       "      <td>6</td>\n",
       "      <td>09/12/2011 12:50</td>\n",
       "      <td>2.10</td>\n",
       "      <td>12680.0</td>\n",
       "      <td>France</td>\n",
       "    </tr>\n",
       "    <tr>\n",
       "      <td>541906</td>\n",
       "      <td>581587</td>\n",
       "      <td>23254</td>\n",
       "      <td>CHILDRENS CUTLERY DOLLY GIRL</td>\n",
       "      <td>4</td>\n",
       "      <td>09/12/2011 12:50</td>\n",
       "      <td>4.15</td>\n",
       "      <td>12680.0</td>\n",
       "      <td>France</td>\n",
       "    </tr>\n",
       "    <tr>\n",
       "      <td>541907</td>\n",
       "      <td>581587</td>\n",
       "      <td>23255</td>\n",
       "      <td>CHILDRENS CUTLERY CIRCUS PARADE</td>\n",
       "      <td>4</td>\n",
       "      <td>09/12/2011 12:50</td>\n",
       "      <td>4.15</td>\n",
       "      <td>12680.0</td>\n",
       "      <td>France</td>\n",
       "    </tr>\n",
       "    <tr>\n",
       "      <td>541908</td>\n",
       "      <td>581587</td>\n",
       "      <td>22138</td>\n",
       "      <td>BAKING SET 9 PIECE RETROSPOT</td>\n",
       "      <td>3</td>\n",
       "      <td>09/12/2011 12:50</td>\n",
       "      <td>4.95</td>\n",
       "      <td>12680.0</td>\n",
       "      <td>France</td>\n",
       "    </tr>\n",
       "    <tr>\n",
       "      <td>541909</td>\n",
       "      <td>581587</td>\n",
       "      <td>POST</td>\n",
       "      <td>POSTAGE</td>\n",
       "      <td>1</td>\n",
       "      <td>09/12/2011 12:50</td>\n",
       "      <td>18.00</td>\n",
       "      <td>12680.0</td>\n",
       "      <td>France</td>\n",
       "    </tr>\n",
       "  </tbody>\n",
       "</table>\n",
       "<p>1067371 rows × 8 columns</p>\n",
       "</div>"
      ],
      "text/plain": [
       "             Invoice StockCode                          Description  Quantity  \\\n",
       "09-10 0       489434     85048  15CM CHRISTMAS GLASS BALL 20 LIGHTS        12   \n",
       "      1       489434    79323P                   PINK CHERRY LIGHTS        12   \n",
       "      2       489434    79323W                  WHITE CHERRY LIGHTS        12   \n",
       "      3       489434     22041         RECORD FRAME 7\" SINGLE SIZE         48   \n",
       "      4       489434     21232       STRAWBERRY CERAMIC TRINKET BOX        24   \n",
       "...              ...       ...                                  ...       ...   \n",
       "10-11 541905  581587     22899         CHILDREN'S APRON DOLLY GIRL          6   \n",
       "      541906  581587     23254        CHILDRENS CUTLERY DOLLY GIRL          4   \n",
       "      541907  581587     23255      CHILDRENS CUTLERY CIRCUS PARADE         4   \n",
       "      541908  581587     22138        BAKING SET 9 PIECE RETROSPOT          3   \n",
       "      541909  581587      POST                              POSTAGE         1   \n",
       "\n",
       "                   InvoiceDate  Price  Customer ID         Country  \n",
       "09-10 0       01/12/2009 07:45   6.95      13085.0  United Kingdom  \n",
       "      1       01/12/2009 07:45   6.75      13085.0  United Kingdom  \n",
       "      2       01/12/2009 07:45   6.75      13085.0  United Kingdom  \n",
       "      3       01/12/2009 07:45   2.10      13085.0  United Kingdom  \n",
       "      4       01/12/2009 07:45   1.25      13085.0  United Kingdom  \n",
       "...                        ...    ...          ...             ...  \n",
       "10-11 541905  09/12/2011 12:50   2.10      12680.0          France  \n",
       "      541906  09/12/2011 12:50   4.15      12680.0          France  \n",
       "      541907  09/12/2011 12:50   4.15      12680.0          France  \n",
       "      541908  09/12/2011 12:50   4.95      12680.0          France  \n",
       "      541909  09/12/2011 12:50  18.00      12680.0          France  \n",
       "\n",
       "[1067371 rows x 8 columns]"
      ]
     },
     "execution_count": 6,
     "metadata": {},
     "output_type": "execute_result"
    }
   ],
   "source": [
    "dfs = [r09, r10]\n",
    "retail = pd.concat(dfs, keys = ['09-10', '10-11'])\n",
    "retail"
   ]
  },
  {
   "cell_type": "markdown",
   "metadata": {},
   "source": [
    "Rename the columns as we did in Exercise 8.01, Loading and Cleaning Our Data:"
   ]
  },
  {
   "cell_type": "code",
   "execution_count": 7,
   "metadata": {
    "colab": {
     "base_uri": "https://localhost:8080/",
     "height": 204
    },
    "colab_type": "code",
    "id": "UHrcfcKIPLK9",
    "outputId": "cd775b8f-2200-43a3-9a61-2759d1c3c770"
   },
   "outputs": [
    {
     "data": {
      "text/html": [
       "<div>\n",
       "<style scoped>\n",
       "    .dataframe tbody tr th:only-of-type {\n",
       "        vertical-align: middle;\n",
       "    }\n",
       "\n",
       "    .dataframe tbody tr th {\n",
       "        vertical-align: top;\n",
       "    }\n",
       "\n",
       "    .dataframe thead th {\n",
       "        text-align: right;\n",
       "    }\n",
       "</style>\n",
       "<table border=\"1\" class=\"dataframe\">\n",
       "  <thead>\n",
       "    <tr style=\"text-align: right;\">\n",
       "      <th></th>\n",
       "      <th></th>\n",
       "      <th>invoice</th>\n",
       "      <th>stock_code</th>\n",
       "      <th>desc</th>\n",
       "      <th>quantity</th>\n",
       "      <th>date</th>\n",
       "      <th>unit_price</th>\n",
       "      <th>cust_id</th>\n",
       "      <th>country</th>\n",
       "    </tr>\n",
       "  </thead>\n",
       "  <tbody>\n",
       "    <tr>\n",
       "      <td rowspan=\"5\" valign=\"top\">09-10</td>\n",
       "      <td>0</td>\n",
       "      <td>489434</td>\n",
       "      <td>85048</td>\n",
       "      <td>15CM CHRISTMAS GLASS BALL 20 LIGHTS</td>\n",
       "      <td>12</td>\n",
       "      <td>01/12/2009 07:45</td>\n",
       "      <td>6.95</td>\n",
       "      <td>13085.0</td>\n",
       "      <td>United Kingdom</td>\n",
       "    </tr>\n",
       "    <tr>\n",
       "      <td>1</td>\n",
       "      <td>489434</td>\n",
       "      <td>79323P</td>\n",
       "      <td>PINK CHERRY LIGHTS</td>\n",
       "      <td>12</td>\n",
       "      <td>01/12/2009 07:45</td>\n",
       "      <td>6.75</td>\n",
       "      <td>13085.0</td>\n",
       "      <td>United Kingdom</td>\n",
       "    </tr>\n",
       "    <tr>\n",
       "      <td>2</td>\n",
       "      <td>489434</td>\n",
       "      <td>79323W</td>\n",
       "      <td>WHITE CHERRY LIGHTS</td>\n",
       "      <td>12</td>\n",
       "      <td>01/12/2009 07:45</td>\n",
       "      <td>6.75</td>\n",
       "      <td>13085.0</td>\n",
       "      <td>United Kingdom</td>\n",
       "    </tr>\n",
       "    <tr>\n",
       "      <td>3</td>\n",
       "      <td>489434</td>\n",
       "      <td>22041</td>\n",
       "      <td>RECORD FRAME 7\" SINGLE SIZE</td>\n",
       "      <td>48</td>\n",
       "      <td>01/12/2009 07:45</td>\n",
       "      <td>2.10</td>\n",
       "      <td>13085.0</td>\n",
       "      <td>United Kingdom</td>\n",
       "    </tr>\n",
       "    <tr>\n",
       "      <td>4</td>\n",
       "      <td>489434</td>\n",
       "      <td>21232</td>\n",
       "      <td>STRAWBERRY CERAMIC TRINKET BOX</td>\n",
       "      <td>24</td>\n",
       "      <td>01/12/2009 07:45</td>\n",
       "      <td>1.25</td>\n",
       "      <td>13085.0</td>\n",
       "      <td>United Kingdom</td>\n",
       "    </tr>\n",
       "  </tbody>\n",
       "</table>\n",
       "</div>"
      ],
      "text/plain": [
       "        invoice stock_code                                 desc  quantity  \\\n",
       "09-10 0  489434      85048  15CM CHRISTMAS GLASS BALL 20 LIGHTS        12   \n",
       "      1  489434     79323P                   PINK CHERRY LIGHTS        12   \n",
       "      2  489434     79323W                  WHITE CHERRY LIGHTS        12   \n",
       "      3  489434      22041         RECORD FRAME 7\" SINGLE SIZE         48   \n",
       "      4  489434      21232       STRAWBERRY CERAMIC TRINKET BOX        24   \n",
       "\n",
       "                     date  unit_price  cust_id         country  \n",
       "09-10 0  01/12/2009 07:45        6.95  13085.0  United Kingdom  \n",
       "      1  01/12/2009 07:45        6.75  13085.0  United Kingdom  \n",
       "      2  01/12/2009 07:45        6.75  13085.0  United Kingdom  \n",
       "      3  01/12/2009 07:45        2.10  13085.0  United Kingdom  \n",
       "      4  01/12/2009 07:45        1.25  13085.0  United Kingdom  "
      ]
     },
     "execution_count": 7,
     "metadata": {},
     "output_type": "execute_result"
    }
   ],
   "source": [
    "retail.rename(index = str, columns = {\n",
    "    'Invoice' : 'invoice', \n",
    "    'StockCode' : 'stock_code', \n",
    "    'Quantity' : 'quantity', \n",
    "    'InvoiceDate' : 'date', \n",
    "    'Price' : 'unit_price', \n",
    "    'Country' : 'country', \n",
    "    'Description' : 'desc', \n",
    "    'Customer ID' : 'cust_id'\n",
    "}, inplace = True)\n",
    "\n",
    "retail.head()"
   ]
  },
  {
   "cell_type": "markdown",
   "metadata": {},
   "source": [
    "Check the statistical information for retail:"
   ]
  },
  {
   "cell_type": "code",
   "execution_count": 8,
   "metadata": {
    "colab": {
     "base_uri": "https://localhost:8080/",
     "height": 170
    },
    "colab_type": "code",
    "id": "dUPxHAPCPLLA",
    "outputId": "5971ca1d-a497-4a1c-e65e-ab71b2bfe9b5"
   },
   "outputs": [
    {
     "data": {
      "text/plain": [
       "cust_id       243007\n",
       "desc            4382\n",
       "country            0\n",
       "unit_price         0\n",
       "date               0\n",
       "quantity           0\n",
       "stock_code         0\n",
       "invoice            0\n",
       "dtype: int64"
      ]
     },
     "execution_count": 8,
     "metadata": {},
     "output_type": "execute_result"
    }
   ],
   "source": [
    "retail.isnull().sum().sort_values(ascending = False)"
   ]
  },
  {
   "cell_type": "markdown",
   "metadata": {},
   "source": [
    "Fetch the details of the DataFrame by using the .describe() function."
   ]
  },
  {
   "cell_type": "code",
   "execution_count": 9,
   "metadata": {
    "colab": {
     "base_uri": "https://localhost:8080/",
     "height": 297
    },
    "colab_type": "code",
    "id": "8YjhRbEJPLLE",
    "outputId": "efe251ab-264d-4abb-88a5-6073cf68f9be"
   },
   "outputs": [
    {
     "data": {
      "text/html": [
       "<div>\n",
       "<style scoped>\n",
       "    .dataframe tbody tr th:only-of-type {\n",
       "        vertical-align: middle;\n",
       "    }\n",
       "\n",
       "    .dataframe tbody tr th {\n",
       "        vertical-align: top;\n",
       "    }\n",
       "\n",
       "    .dataframe thead th {\n",
       "        text-align: right;\n",
       "    }\n",
       "</style>\n",
       "<table border=\"1\" class=\"dataframe\">\n",
       "  <thead>\n",
       "    <tr style=\"text-align: right;\">\n",
       "      <th></th>\n",
       "      <th>quantity</th>\n",
       "      <th>unit_price</th>\n",
       "      <th>cust_id</th>\n",
       "    </tr>\n",
       "  </thead>\n",
       "  <tbody>\n",
       "    <tr>\n",
       "      <td>count</td>\n",
       "      <td>1.067371e+06</td>\n",
       "      <td>1.067371e+06</td>\n",
       "      <td>824364.000000</td>\n",
       "    </tr>\n",
       "    <tr>\n",
       "      <td>mean</td>\n",
       "      <td>9.938898e+00</td>\n",
       "      <td>4.649388e+00</td>\n",
       "      <td>15324.638504</td>\n",
       "    </tr>\n",
       "    <tr>\n",
       "      <td>std</td>\n",
       "      <td>1.727058e+02</td>\n",
       "      <td>1.235531e+02</td>\n",
       "      <td>1697.464450</td>\n",
       "    </tr>\n",
       "    <tr>\n",
       "      <td>min</td>\n",
       "      <td>-8.099500e+04</td>\n",
       "      <td>-5.359436e+04</td>\n",
       "      <td>12346.000000</td>\n",
       "    </tr>\n",
       "    <tr>\n",
       "      <td>25%</td>\n",
       "      <td>1.000000e+00</td>\n",
       "      <td>1.250000e+00</td>\n",
       "      <td>13975.000000</td>\n",
       "    </tr>\n",
       "    <tr>\n",
       "      <td>50%</td>\n",
       "      <td>3.000000e+00</td>\n",
       "      <td>2.100000e+00</td>\n",
       "      <td>15255.000000</td>\n",
       "    </tr>\n",
       "    <tr>\n",
       "      <td>75%</td>\n",
       "      <td>1.000000e+01</td>\n",
       "      <td>4.150000e+00</td>\n",
       "      <td>16797.000000</td>\n",
       "    </tr>\n",
       "    <tr>\n",
       "      <td>max</td>\n",
       "      <td>8.099500e+04</td>\n",
       "      <td>3.897000e+04</td>\n",
       "      <td>18287.000000</td>\n",
       "    </tr>\n",
       "  </tbody>\n",
       "</table>\n",
       "</div>"
      ],
      "text/plain": [
       "           quantity    unit_price        cust_id\n",
       "count  1.067371e+06  1.067371e+06  824364.000000\n",
       "mean   9.938898e+00  4.649388e+00   15324.638504\n",
       "std    1.727058e+02  1.235531e+02    1697.464450\n",
       "min   -8.099500e+04 -5.359436e+04   12346.000000\n",
       "25%    1.000000e+00  1.250000e+00   13975.000000\n",
       "50%    3.000000e+00  2.100000e+00   15255.000000\n",
       "75%    1.000000e+01  4.150000e+00   16797.000000\n",
       "max    8.099500e+04  3.897000e+04   18287.000000"
      ]
     },
     "execution_count": 9,
     "metadata": {},
     "output_type": "execute_result"
    }
   ],
   "source": [
    "retail.describe()"
   ]
  },
  {
   "cell_type": "markdown",
   "metadata": {},
   "source": [
    "Use the .loc() function to determine how many instances in retail have 38970.0 as their unit_price value:"
   ]
  },
  {
   "cell_type": "code",
   "execution_count": 10,
   "metadata": {
    "colab": {
     "base_uri": "https://localhost:8080/",
     "height": 111
    },
    "colab_type": "code",
    "id": "GEbvYzqKPLLH",
    "outputId": "fa5226fc-fb0e-4cef-c1d3-df976d69498e"
   },
   "outputs": [
    {
     "data": {
      "text/html": [
       "<div>\n",
       "<style scoped>\n",
       "    .dataframe tbody tr th:only-of-type {\n",
       "        vertical-align: middle;\n",
       "    }\n",
       "\n",
       "    .dataframe tbody tr th {\n",
       "        vertical-align: top;\n",
       "    }\n",
       "\n",
       "    .dataframe thead th {\n",
       "        text-align: right;\n",
       "    }\n",
       "</style>\n",
       "<table border=\"1\" class=\"dataframe\">\n",
       "  <thead>\n",
       "    <tr style=\"text-align: right;\">\n",
       "      <th></th>\n",
       "      <th></th>\n",
       "      <th>invoice</th>\n",
       "      <th>stock_code</th>\n",
       "      <th>desc</th>\n",
       "      <th>quantity</th>\n",
       "      <th>date</th>\n",
       "      <th>unit_price</th>\n",
       "      <th>cust_id</th>\n",
       "      <th>country</th>\n",
       "    </tr>\n",
       "  </thead>\n",
       "  <tbody>\n",
       "    <tr>\n",
       "      <td>10-11</td>\n",
       "      <td>222681</td>\n",
       "      <td>C556445</td>\n",
       "      <td>M</td>\n",
       "      <td>Manual</td>\n",
       "      <td>-1</td>\n",
       "      <td>10/06/2011 15:31</td>\n",
       "      <td>38970.0</td>\n",
       "      <td>15098.0</td>\n",
       "      <td>United Kingdom</td>\n",
       "    </tr>\n",
       "  </tbody>\n",
       "</table>\n",
       "</div>"
      ],
      "text/plain": [
       "              invoice stock_code    desc  quantity              date  \\\n",
       "10-11 222681  C556445          M  Manual        -1  10/06/2011 15:31   \n",
       "\n",
       "              unit_price  cust_id         country  \n",
       "10-11 222681     38970.0  15098.0  United Kingdom  "
      ]
     },
     "execution_count": 10,
     "metadata": {},
     "output_type": "execute_result"
    }
   ],
   "source": [
    "retail.loc[retail['unit_price'] == 38970.0]"
   ]
  },
  {
   "cell_type": "markdown",
   "metadata": {},
   "source": [
    "Use the .loc() function again to determine how many instances in retail have -53594.360000 as their unit_price value:"
   ]
  },
  {
   "cell_type": "code",
   "execution_count": 11,
   "metadata": {
    "colab": {
     "base_uri": "https://localhost:8080/",
     "height": 49
    },
    "colab_type": "code",
    "id": "occ2gbODPLLK",
    "outputId": "9c91a890-ef4b-4092-b211-5b4591354483"
   },
   "outputs": [
    {
     "data": {
      "text/html": [
       "<div>\n",
       "<style scoped>\n",
       "    .dataframe tbody tr th:only-of-type {\n",
       "        vertical-align: middle;\n",
       "    }\n",
       "\n",
       "    .dataframe tbody tr th {\n",
       "        vertical-align: top;\n",
       "    }\n",
       "\n",
       "    .dataframe thead th {\n",
       "        text-align: right;\n",
       "    }\n",
       "</style>\n",
       "<table border=\"1\" class=\"dataframe\">\n",
       "  <thead>\n",
       "    <tr style=\"text-align: right;\">\n",
       "      <th></th>\n",
       "      <th></th>\n",
       "      <th>invoice</th>\n",
       "      <th>stock_code</th>\n",
       "      <th>desc</th>\n",
       "      <th>quantity</th>\n",
       "      <th>date</th>\n",
       "      <th>unit_price</th>\n",
       "      <th>cust_id</th>\n",
       "      <th>country</th>\n",
       "    </tr>\n",
       "  </thead>\n",
       "  <tbody>\n",
       "    <tr>\n",
       "      <td>09-10</td>\n",
       "      <td>179403</td>\n",
       "      <td>A506401</td>\n",
       "      <td>B</td>\n",
       "      <td>Adjust bad debt</td>\n",
       "      <td>1</td>\n",
       "      <td>29/04/2010 13:36</td>\n",
       "      <td>-53594.36</td>\n",
       "      <td>NaN</td>\n",
       "      <td>United Kingdom</td>\n",
       "    </tr>\n",
       "  </tbody>\n",
       "</table>\n",
       "</div>"
      ],
      "text/plain": [
       "              invoice stock_code             desc  quantity              date  \\\n",
       "09-10 179403  A506401          B  Adjust bad debt         1  29/04/2010 13:36   \n",
       "\n",
       "              unit_price  cust_id         country  \n",
       "09-10 179403   -53594.36      NaN  United Kingdom  "
      ]
     },
     "execution_count": 11,
     "metadata": {},
     "output_type": "execute_result"
    }
   ],
   "source": [
    "retail.loc[retail['unit_price'] == -53594.360000]"
   ]
  },
  {
   "cell_type": "markdown",
   "metadata": {},
   "source": [
    "Calculate how many negative values of unit_price and quantity are present in retail. If they are only a small percentage of the total number of instances, then remove them from retail:"
   ]
  },
  {
   "cell_type": "code",
   "execution_count": 13,
   "metadata": {
    "colab": {
     "base_uri": "https://localhost:8080/",
     "height": 34
    },
    "colab_type": "code",
    "id": "E-hdNa2JPLLP",
    "outputId": "00b68333-297f-43d5-f266-a3b3a3b892c8"
   },
   "outputs": [
    {
     "data": {
      "text/plain": [
       "6207"
      ]
     },
     "execution_count": 13,
     "metadata": {},
     "output_type": "execute_result"
    }
   ],
   "source": [
    "(retail['unit_price'] <= 0).sum()"
   ]
  },
  {
   "cell_type": "markdown",
   "metadata": {},
   "source": [
    "Similarly, find out the number of negative values of quantity:"
   ]
  },
  {
   "cell_type": "code",
   "execution_count": 14,
   "metadata": {
    "colab": {
     "base_uri": "https://localhost:8080/",
     "height": 34
    },
    "colab_type": "code",
    "id": "svggVXSSPLLT",
    "outputId": "3c304c17-17d5-4798-bdf3-d3149182d989"
   },
   "outputs": [
    {
     "data": {
      "text/plain": [
       "22950"
      ]
     },
     "execution_count": 14,
     "metadata": {},
     "output_type": "execute_result"
    }
   ],
   "source": [
    "(retail['quantity'] <= 0).sum()"
   ]
  },
  {
   "cell_type": "markdown",
   "metadata": {},
   "source": [
    "Display the total number of negative instances for the unit_price and quantity columns:"
   ]
  },
  {
   "cell_type": "code",
   "execution_count": 15,
   "metadata": {
    "colab": {
     "base_uri": "https://localhost:8080/",
     "height": 419
    },
    "colab_type": "code",
    "id": "6wj7OrzYPLLV",
    "outputId": "0c3bea7a-02e7-4c8d-f9a5-902fd8d5d71f",
    "scrolled": true
   },
   "outputs": [
    {
     "data": {
      "text/html": [
       "<div>\n",
       "<style scoped>\n",
       "    .dataframe tbody tr th:only-of-type {\n",
       "        vertical-align: middle;\n",
       "    }\n",
       "\n",
       "    .dataframe tbody tr th {\n",
       "        vertical-align: top;\n",
       "    }\n",
       "\n",
       "    .dataframe thead th {\n",
       "        text-align: right;\n",
       "    }\n",
       "</style>\n",
       "<table border=\"1\" class=\"dataframe\">\n",
       "  <thead>\n",
       "    <tr style=\"text-align: right;\">\n",
       "      <th></th>\n",
       "      <th></th>\n",
       "      <th>invoice</th>\n",
       "      <th>stock_code</th>\n",
       "      <th>desc</th>\n",
       "      <th>quantity</th>\n",
       "      <th>date</th>\n",
       "      <th>unit_price</th>\n",
       "      <th>cust_id</th>\n",
       "      <th>country</th>\n",
       "    </tr>\n",
       "  </thead>\n",
       "  <tbody>\n",
       "    <tr>\n",
       "      <td rowspan=\"5\" valign=\"top\">09-10</td>\n",
       "      <td>263</td>\n",
       "      <td>489464</td>\n",
       "      <td>21733</td>\n",
       "      <td>85123a mixed</td>\n",
       "      <td>-96</td>\n",
       "      <td>01/12/2009 10:52</td>\n",
       "      <td>0.0</td>\n",
       "      <td>NaN</td>\n",
       "      <td>United Kingdom</td>\n",
       "    </tr>\n",
       "    <tr>\n",
       "      <td>283</td>\n",
       "      <td>489463</td>\n",
       "      <td>71477</td>\n",
       "      <td>short</td>\n",
       "      <td>-240</td>\n",
       "      <td>01/12/2009 10:52</td>\n",
       "      <td>0.0</td>\n",
       "      <td>NaN</td>\n",
       "      <td>United Kingdom</td>\n",
       "    </tr>\n",
       "    <tr>\n",
       "      <td>284</td>\n",
       "      <td>489467</td>\n",
       "      <td>85123A</td>\n",
       "      <td>21733 mixed</td>\n",
       "      <td>-192</td>\n",
       "      <td>01/12/2009 10:53</td>\n",
       "      <td>0.0</td>\n",
       "      <td>NaN</td>\n",
       "      <td>United Kingdom</td>\n",
       "    </tr>\n",
       "    <tr>\n",
       "      <td>470</td>\n",
       "      <td>489521</td>\n",
       "      <td>21646</td>\n",
       "      <td>NaN</td>\n",
       "      <td>-50</td>\n",
       "      <td>01/12/2009 11:44</td>\n",
       "      <td>0.0</td>\n",
       "      <td>NaN</td>\n",
       "      <td>United Kingdom</td>\n",
       "    </tr>\n",
       "    <tr>\n",
       "      <td>3114</td>\n",
       "      <td>489655</td>\n",
       "      <td>20683</td>\n",
       "      <td>NaN</td>\n",
       "      <td>-44</td>\n",
       "      <td>01/12/2009 17:26</td>\n",
       "      <td>0.0</td>\n",
       "      <td>NaN</td>\n",
       "      <td>United Kingdom</td>\n",
       "    </tr>\n",
       "    <tr>\n",
       "      <td>...</td>\n",
       "      <td>...</td>\n",
       "      <td>...</td>\n",
       "      <td>...</td>\n",
       "      <td>...</td>\n",
       "      <td>...</td>\n",
       "      <td>...</td>\n",
       "      <td>...</td>\n",
       "      <td>...</td>\n",
       "      <td>...</td>\n",
       "    </tr>\n",
       "    <tr>\n",
       "      <td rowspan=\"5\" valign=\"top\">10-11</td>\n",
       "      <td>535333</td>\n",
       "      <td>581210</td>\n",
       "      <td>23395</td>\n",
       "      <td>check</td>\n",
       "      <td>-26</td>\n",
       "      <td>07/12/2011 18:36</td>\n",
       "      <td>0.0</td>\n",
       "      <td>NaN</td>\n",
       "      <td>United Kingdom</td>\n",
       "    </tr>\n",
       "    <tr>\n",
       "      <td>535335</td>\n",
       "      <td>581212</td>\n",
       "      <td>22578</td>\n",
       "      <td>lost</td>\n",
       "      <td>-1050</td>\n",
       "      <td>07/12/2011 18:38</td>\n",
       "      <td>0.0</td>\n",
       "      <td>NaN</td>\n",
       "      <td>United Kingdom</td>\n",
       "    </tr>\n",
       "    <tr>\n",
       "      <td>535336</td>\n",
       "      <td>581213</td>\n",
       "      <td>22576</td>\n",
       "      <td>check</td>\n",
       "      <td>-30</td>\n",
       "      <td>07/12/2011 18:38</td>\n",
       "      <td>0.0</td>\n",
       "      <td>NaN</td>\n",
       "      <td>United Kingdom</td>\n",
       "    </tr>\n",
       "    <tr>\n",
       "      <td>536910</td>\n",
       "      <td>581226</td>\n",
       "      <td>23090</td>\n",
       "      <td>missing</td>\n",
       "      <td>-338</td>\n",
       "      <td>08/12/2011 09:56</td>\n",
       "      <td>0.0</td>\n",
       "      <td>NaN</td>\n",
       "      <td>United Kingdom</td>\n",
       "    </tr>\n",
       "    <tr>\n",
       "      <td>538925</td>\n",
       "      <td>581422</td>\n",
       "      <td>23169</td>\n",
       "      <td>smashed</td>\n",
       "      <td>-235</td>\n",
       "      <td>08/12/2011 15:24</td>\n",
       "      <td>0.0</td>\n",
       "      <td>NaN</td>\n",
       "      <td>United Kingdom</td>\n",
       "    </tr>\n",
       "  </tbody>\n",
       "</table>\n",
       "<p>3457 rows × 8 columns</p>\n",
       "</div>"
      ],
      "text/plain": [
       "             invoice stock_code          desc  quantity              date  \\\n",
       "09-10 263     489464      21733  85123a mixed       -96  01/12/2009 10:52   \n",
       "      283     489463      71477         short      -240  01/12/2009 10:52   \n",
       "      284     489467     85123A   21733 mixed      -192  01/12/2009 10:53   \n",
       "      470     489521      21646           NaN       -50  01/12/2009 11:44   \n",
       "      3114    489655      20683           NaN       -44  01/12/2009 17:26   \n",
       "...              ...        ...           ...       ...               ...   \n",
       "10-11 535333  581210      23395         check       -26  07/12/2011 18:36   \n",
       "      535335  581212      22578          lost     -1050  07/12/2011 18:38   \n",
       "      535336  581213      22576         check       -30  07/12/2011 18:38   \n",
       "      536910  581226      23090       missing      -338  08/12/2011 09:56   \n",
       "      538925  581422      23169       smashed      -235  08/12/2011 15:24   \n",
       "\n",
       "              unit_price  cust_id         country  \n",
       "09-10 263            0.0      NaN  United Kingdom  \n",
       "      283            0.0      NaN  United Kingdom  \n",
       "      284            0.0      NaN  United Kingdom  \n",
       "      470            0.0      NaN  United Kingdom  \n",
       "      3114           0.0      NaN  United Kingdom  \n",
       "...                  ...      ...             ...  \n",
       "10-11 535333         0.0      NaN  United Kingdom  \n",
       "      535335         0.0      NaN  United Kingdom  \n",
       "      535336         0.0      NaN  United Kingdom  \n",
       "      536910         0.0      NaN  United Kingdom  \n",
       "      538925         0.0      NaN  United Kingdom  \n",
       "\n",
       "[3457 rows x 8 columns]"
      ]
     },
     "execution_count": 15,
     "metadata": {},
     "output_type": "execute_result"
    }
   ],
   "source": [
    "retail[(retail['unit_price'] <= 0) & (retail['quantity'] <= 0) & (retail['cust_id'].isnull())]"
   ]
  },
  {
   "cell_type": "markdown",
   "metadata": {},
   "source": [
    "Store the instances with missing values in another DataFrame:"
   ]
  },
  {
   "cell_type": "code",
   "execution_count": 16,
   "metadata": {
    "colab": {
     "base_uri": "https://localhost:8080/",
     "height": 419
    },
    "colab_type": "code",
    "id": "2XOenNcXPLLY",
    "outputId": "efc96b63-2093-47ed-89b0-8b4349d3e76c",
    "scrolled": false
   },
   "outputs": [
    {
     "data": {
      "text/html": [
       "<div>\n",
       "<style scoped>\n",
       "    .dataframe tbody tr th:only-of-type {\n",
       "        vertical-align: middle;\n",
       "    }\n",
       "\n",
       "    .dataframe tbody tr th {\n",
       "        vertical-align: top;\n",
       "    }\n",
       "\n",
       "    .dataframe thead th {\n",
       "        text-align: right;\n",
       "    }\n",
       "</style>\n",
       "<table border=\"1\" class=\"dataframe\">\n",
       "  <thead>\n",
       "    <tr style=\"text-align: right;\">\n",
       "      <th></th>\n",
       "      <th></th>\n",
       "      <th>invoice</th>\n",
       "      <th>stock_code</th>\n",
       "      <th>desc</th>\n",
       "      <th>quantity</th>\n",
       "      <th>date</th>\n",
       "      <th>unit_price</th>\n",
       "      <th>cust_id</th>\n",
       "      <th>country</th>\n",
       "    </tr>\n",
       "  </thead>\n",
       "  <tbody>\n",
       "    <tr>\n",
       "      <td rowspan=\"5\" valign=\"top\">09-10</td>\n",
       "      <td>263</td>\n",
       "      <td>489464</td>\n",
       "      <td>21733</td>\n",
       "      <td>85123a mixed</td>\n",
       "      <td>-96</td>\n",
       "      <td>01/12/2009 10:52</td>\n",
       "      <td>0.00</td>\n",
       "      <td>NaN</td>\n",
       "      <td>United Kingdom</td>\n",
       "    </tr>\n",
       "    <tr>\n",
       "      <td>283</td>\n",
       "      <td>489463</td>\n",
       "      <td>71477</td>\n",
       "      <td>short</td>\n",
       "      <td>-240</td>\n",
       "      <td>01/12/2009 10:52</td>\n",
       "      <td>0.00</td>\n",
       "      <td>NaN</td>\n",
       "      <td>United Kingdom</td>\n",
       "    </tr>\n",
       "    <tr>\n",
       "      <td>284</td>\n",
       "      <td>489467</td>\n",
       "      <td>85123A</td>\n",
       "      <td>21733 mixed</td>\n",
       "      <td>-192</td>\n",
       "      <td>01/12/2009 10:53</td>\n",
       "      <td>0.00</td>\n",
       "      <td>NaN</td>\n",
       "      <td>United Kingdom</td>\n",
       "    </tr>\n",
       "    <tr>\n",
       "      <td>470</td>\n",
       "      <td>489521</td>\n",
       "      <td>21646</td>\n",
       "      <td>NaN</td>\n",
       "      <td>-50</td>\n",
       "      <td>01/12/2009 11:44</td>\n",
       "      <td>0.00</td>\n",
       "      <td>NaN</td>\n",
       "      <td>United Kingdom</td>\n",
       "    </tr>\n",
       "    <tr>\n",
       "      <td>577</td>\n",
       "      <td>489525</td>\n",
       "      <td>85226C</td>\n",
       "      <td>BLUE PULL BACK RACING CAR</td>\n",
       "      <td>1</td>\n",
       "      <td>01/12/2009 11:49</td>\n",
       "      <td>0.55</td>\n",
       "      <td>NaN</td>\n",
       "      <td>United Kingdom</td>\n",
       "    </tr>\n",
       "    <tr>\n",
       "      <td>...</td>\n",
       "      <td>...</td>\n",
       "      <td>...</td>\n",
       "      <td>...</td>\n",
       "      <td>...</td>\n",
       "      <td>...</td>\n",
       "      <td>...</td>\n",
       "      <td>...</td>\n",
       "      <td>...</td>\n",
       "      <td>...</td>\n",
       "    </tr>\n",
       "    <tr>\n",
       "      <td rowspan=\"5\" valign=\"top\">10-11</td>\n",
       "      <td>541536</td>\n",
       "      <td>581498</td>\n",
       "      <td>85099B</td>\n",
       "      <td>JUMBO BAG RED RETROSPOT</td>\n",
       "      <td>5</td>\n",
       "      <td>09/12/2011 10:26</td>\n",
       "      <td>4.13</td>\n",
       "      <td>NaN</td>\n",
       "      <td>United Kingdom</td>\n",
       "    </tr>\n",
       "    <tr>\n",
       "      <td>541537</td>\n",
       "      <td>581498</td>\n",
       "      <td>85099C</td>\n",
       "      <td>JUMBO  BAG BAROQUE BLACK WHITE</td>\n",
       "      <td>4</td>\n",
       "      <td>09/12/2011 10:26</td>\n",
       "      <td>4.13</td>\n",
       "      <td>NaN</td>\n",
       "      <td>United Kingdom</td>\n",
       "    </tr>\n",
       "    <tr>\n",
       "      <td>541538</td>\n",
       "      <td>581498</td>\n",
       "      <td>85150</td>\n",
       "      <td>LADIES &amp; GENTLEMEN METAL SIGN</td>\n",
       "      <td>1</td>\n",
       "      <td>09/12/2011 10:26</td>\n",
       "      <td>4.96</td>\n",
       "      <td>NaN</td>\n",
       "      <td>United Kingdom</td>\n",
       "    </tr>\n",
       "    <tr>\n",
       "      <td>541539</td>\n",
       "      <td>581498</td>\n",
       "      <td>85174</td>\n",
       "      <td>S/4 CACTI CANDLES</td>\n",
       "      <td>1</td>\n",
       "      <td>09/12/2011 10:26</td>\n",
       "      <td>10.79</td>\n",
       "      <td>NaN</td>\n",
       "      <td>United Kingdom</td>\n",
       "    </tr>\n",
       "    <tr>\n",
       "      <td>541540</td>\n",
       "      <td>581498</td>\n",
       "      <td>DOT</td>\n",
       "      <td>DOTCOM POSTAGE</td>\n",
       "      <td>1</td>\n",
       "      <td>09/12/2011 10:26</td>\n",
       "      <td>1714.17</td>\n",
       "      <td>NaN</td>\n",
       "      <td>United Kingdom</td>\n",
       "    </tr>\n",
       "  </tbody>\n",
       "</table>\n",
       "<p>243007 rows × 8 columns</p>\n",
       "</div>"
      ],
      "text/plain": [
       "             invoice stock_code                            desc  quantity  \\\n",
       "09-10 263     489464      21733                    85123a mixed       -96   \n",
       "      283     489463      71477                           short      -240   \n",
       "      284     489467     85123A                     21733 mixed      -192   \n",
       "      470     489521      21646                             NaN       -50   \n",
       "      577     489525     85226C       BLUE PULL BACK RACING CAR         1   \n",
       "...              ...        ...                             ...       ...   \n",
       "10-11 541536  581498     85099B         JUMBO BAG RED RETROSPOT         5   \n",
       "      541537  581498     85099C  JUMBO  BAG BAROQUE BLACK WHITE         4   \n",
       "      541538  581498      85150   LADIES & GENTLEMEN METAL SIGN         1   \n",
       "      541539  581498      85174               S/4 CACTI CANDLES         1   \n",
       "      541540  581498        DOT                  DOTCOM POSTAGE         1   \n",
       "\n",
       "                          date  unit_price  cust_id         country  \n",
       "09-10 263     01/12/2009 10:52        0.00      NaN  United Kingdom  \n",
       "      283     01/12/2009 10:52        0.00      NaN  United Kingdom  \n",
       "      284     01/12/2009 10:53        0.00      NaN  United Kingdom  \n",
       "      470     01/12/2009 11:44        0.00      NaN  United Kingdom  \n",
       "      577     01/12/2009 11:49        0.55      NaN  United Kingdom  \n",
       "...                        ...         ...      ...             ...  \n",
       "10-11 541536  09/12/2011 10:26        4.13      NaN  United Kingdom  \n",
       "      541537  09/12/2011 10:26        4.13      NaN  United Kingdom  \n",
       "      541538  09/12/2011 10:26        4.96      NaN  United Kingdom  \n",
       "      541539  09/12/2011 10:26       10.79      NaN  United Kingdom  \n",
       "      541540  09/12/2011 10:26     1714.17      NaN  United Kingdom  \n",
       "\n",
       "[243007 rows x 8 columns]"
      ]
     },
     "execution_count": 16,
     "metadata": {},
     "output_type": "execute_result"
    }
   ],
   "source": [
    "null_retail = retail[retail.isnull().any(axis=1)]\n",
    "null_retail"
   ]
  },
  {
   "cell_type": "markdown",
   "metadata": {
    "colab": {
     "base_uri": "https://localhost:8080/",
     "height": 297
    },
    "colab_type": "code",
    "id": "KQetfPW3PLLd",
    "outputId": "f2468d1b-0eb2-43b1-b581-28d73905395a"
   },
   "source": [
    "Delete the instances with missing values from retail:"
   ]
  },
  {
   "cell_type": "code",
   "execution_count": 17,
   "metadata": {
    "colab": {},
    "colab_type": "code",
    "id": "7PFQi0axPLLa"
   },
   "outputs": [
    {
     "data": {
      "text/html": [
       "<div>\n",
       "<style scoped>\n",
       "    .dataframe tbody tr th:only-of-type {\n",
       "        vertical-align: middle;\n",
       "    }\n",
       "\n",
       "    .dataframe tbody tr th {\n",
       "        vertical-align: top;\n",
       "    }\n",
       "\n",
       "    .dataframe thead th {\n",
       "        text-align: right;\n",
       "    }\n",
       "</style>\n",
       "<table border=\"1\" class=\"dataframe\">\n",
       "  <thead>\n",
       "    <tr style=\"text-align: right;\">\n",
       "      <th></th>\n",
       "      <th>quantity</th>\n",
       "      <th>unit_price</th>\n",
       "      <th>cust_id</th>\n",
       "    </tr>\n",
       "  </thead>\n",
       "  <tbody>\n",
       "    <tr>\n",
       "      <td>count</td>\n",
       "      <td>1.041671e+06</td>\n",
       "      <td>1.041671e+06</td>\n",
       "      <td>805549.000000</td>\n",
       "    </tr>\n",
       "    <tr>\n",
       "      <td>mean</td>\n",
       "      <td>1.096345e+01</td>\n",
       "      <td>4.077038e+00</td>\n",
       "      <td>15331.954970</td>\n",
       "    </tr>\n",
       "    <tr>\n",
       "      <td>std</td>\n",
       "      <td>1.265149e+02</td>\n",
       "      <td>5.144898e+01</td>\n",
       "      <td>1696.737039</td>\n",
       "    </tr>\n",
       "    <tr>\n",
       "      <td>min</td>\n",
       "      <td>1.000000e+00</td>\n",
       "      <td>1.000000e-03</td>\n",
       "      <td>12346.000000</td>\n",
       "    </tr>\n",
       "    <tr>\n",
       "      <td>25%</td>\n",
       "      <td>1.000000e+00</td>\n",
       "      <td>1.250000e+00</td>\n",
       "      <td>13982.000000</td>\n",
       "    </tr>\n",
       "    <tr>\n",
       "      <td>50%</td>\n",
       "      <td>3.000000e+00</td>\n",
       "      <td>2.100000e+00</td>\n",
       "      <td>15271.000000</td>\n",
       "    </tr>\n",
       "    <tr>\n",
       "      <td>75%</td>\n",
       "      <td>1.000000e+01</td>\n",
       "      <td>4.130000e+00</td>\n",
       "      <td>16805.000000</td>\n",
       "    </tr>\n",
       "    <tr>\n",
       "      <td>max</td>\n",
       "      <td>8.099500e+04</td>\n",
       "      <td>2.511109e+04</td>\n",
       "      <td>18287.000000</td>\n",
       "    </tr>\n",
       "  </tbody>\n",
       "</table>\n",
       "</div>"
      ],
      "text/plain": [
       "           quantity    unit_price        cust_id\n",
       "count  1.041671e+06  1.041671e+06  805549.000000\n",
       "mean   1.096345e+01  4.077038e+00   15331.954970\n",
       "std    1.265149e+02  5.144898e+01    1696.737039\n",
       "min    1.000000e+00  1.000000e-03   12346.000000\n",
       "25%    1.000000e+00  1.250000e+00   13982.000000\n",
       "50%    3.000000e+00  2.100000e+00   15271.000000\n",
       "75%    1.000000e+01  4.130000e+00   16805.000000\n",
       "max    8.099500e+04  2.511109e+04   18287.000000"
      ]
     },
     "execution_count": 17,
     "metadata": {},
     "output_type": "execute_result"
    }
   ],
   "source": [
    "new_retail = retail[(retail['unit_price'] > 0) & (retail['quantity'] > 0)]\n",
    "new_retail.describe()"
   ]
  },
  {
   "cell_type": "markdown",
   "metadata": {},
   "source": [
    "Plot a boxplot for unit_price to see if there are any outliers. If there are, remove those instances:"
   ]
  },
  {
   "cell_type": "code",
   "execution_count": 18,
   "metadata": {
    "colab": {
     "base_uri": "https://localhost:8080/",
     "height": 389
    },
    "colab_type": "code",
    "id": "3hSsyPF_PLLg",
    "outputId": "343eebf4-b8f3-4b2b-ef5e-620782b12ec7"
   },
   "outputs": [
    {
     "data": {
      "image/png": "[encoded data removed]",
      "text/plain": [
       "<Figure size 864x432 with 1 Axes>"
      ]
     },
     "metadata": {
      "needs_background": "light"
     },
     "output_type": "display_data"
    }
   ],
   "source": [
    "plt.subplots(figsize = (12, 6))\n",
    "up = sns.boxplot(new_retail.unit_price)"
   ]
  },
  {
   "cell_type": "markdown",
   "metadata": {
    "colab": {
     "base_uri": "https://localhost:8080/",
     "height": 297
    },
    "colab_type": "code",
    "id": "lYfU5Z8wPLLl",
    "outputId": "0adb33ac-5111-4fa3-f583-665bfe129954"
   },
   "source": [
    "Similarly, plot the unit_price boxplot for the modified values:"
   ]
  },
  {
   "cell_type": "code",
   "execution_count": 19,
   "metadata": {
    "colab": {
     "base_uri": "https://localhost:8080/",
     "height": 85
    },
    "colab_type": "code",
    "id": "5YTvN8XCPLLj",
    "outputId": "fddceb68-4a0d-49cb-edca-704ffbca3c2d"
   },
   "outputs": [
    {
     "data": {
      "text/html": [
       "<div>\n",
       "<style scoped>\n",
       "    .dataframe tbody tr th:only-of-type {\n",
       "        vertical-align: middle;\n",
       "    }\n",
       "\n",
       "    .dataframe tbody tr th {\n",
       "        vertical-align: top;\n",
       "    }\n",
       "\n",
       "    .dataframe thead th {\n",
       "        text-align: right;\n",
       "    }\n",
       "</style>\n",
       "<table border=\"1\" class=\"dataframe\">\n",
       "  <thead>\n",
       "    <tr style=\"text-align: right;\">\n",
       "      <th></th>\n",
       "      <th>quantity</th>\n",
       "      <th>unit_price</th>\n",
       "      <th>cust_id</th>\n",
       "    </tr>\n",
       "  </thead>\n",
       "  <tbody>\n",
       "    <tr>\n",
       "      <td>count</td>\n",
       "      <td>1.041670e+06</td>\n",
       "      <td>1.041670e+06</td>\n",
       "      <td>805549.000000</td>\n",
       "    </tr>\n",
       "    <tr>\n",
       "      <td>mean</td>\n",
       "      <td>1.096346e+01</td>\n",
       "      <td>4.052935e+00</td>\n",
       "      <td>15331.954970</td>\n",
       "    </tr>\n",
       "    <tr>\n",
       "      <td>std</td>\n",
       "      <td>1.265150e+02</td>\n",
       "      <td>4.518687e+01</td>\n",
       "      <td>1696.737039</td>\n",
       "    </tr>\n",
       "    <tr>\n",
       "      <td>min</td>\n",
       "      <td>1.000000e+00</td>\n",
       "      <td>1.000000e-03</td>\n",
       "      <td>12346.000000</td>\n",
       "    </tr>\n",
       "    <tr>\n",
       "      <td>25%</td>\n",
       "      <td>1.000000e+00</td>\n",
       "      <td>1.250000e+00</td>\n",
       "      <td>13982.000000</td>\n",
       "    </tr>\n",
       "    <tr>\n",
       "      <td>50%</td>\n",
       "      <td>3.000000e+00</td>\n",
       "      <td>2.100000e+00</td>\n",
       "      <td>15271.000000</td>\n",
       "    </tr>\n",
       "    <tr>\n",
       "      <td>75%</td>\n",
       "      <td>1.000000e+01</td>\n",
       "      <td>4.130000e+00</td>\n",
       "      <td>16805.000000</td>\n",
       "    </tr>\n",
       "    <tr>\n",
       "      <td>max</td>\n",
       "      <td>8.099500e+04</td>\n",
       "      <td>1.354133e+04</td>\n",
       "      <td>18287.000000</td>\n",
       "    </tr>\n",
       "  </tbody>\n",
       "</table>\n",
       "</div>"
      ],
      "text/plain": [
       "           quantity    unit_price        cust_id\n",
       "count  1.041670e+06  1.041670e+06  805549.000000\n",
       "mean   1.096346e+01  4.052935e+00   15331.954970\n",
       "std    1.265150e+02  4.518687e+01    1696.737039\n",
       "min    1.000000e+00  1.000000e-03   12346.000000\n",
       "25%    1.000000e+00  1.250000e+00   13982.000000\n",
       "50%    3.000000e+00  2.100000e+00   15271.000000\n",
       "75%    1.000000e+01  4.130000e+00   16805.000000\n",
       "max    8.099500e+04  1.354133e+04   18287.000000"
      ]
     },
     "execution_count": 19,
     "metadata": {},
     "output_type": "execute_result"
    }
   ],
   "source": [
    "new_retail = new_retail[new_retail.unit_price < 15000]\n",
    "new_retail.describe()"
   ]
  },
  {
   "cell_type": "markdown",
   "metadata": {},
   "source": [
    "Plot a boxplot for the unit_price of the new_retail DataFrame."
   ]
  },
  {
   "cell_type": "code",
   "execution_count": 20,
   "metadata": {
    "colab": {
     "base_uri": "https://localhost:8080/",
     "height": 280
    },
    "colab_type": "code",
    "id": "Ya95YqMYPLLo",
    "outputId": "f8bd0bbd-50bd-4e0f-f37c-1f9f1dbbe547"
   },
   "outputs": [
    {
     "data": {
      "image/png": "[encoded data removed]",
      "text/plain": [
       "<Figure size 432x288 with 1 Axes>"
      ]
     },
     "metadata": {
      "needs_background": "light"
     },
     "output_type": "display_data"
    }
   ],
   "source": [
    "up_new = sns.boxplot(new_retail.unit_price)"
   ]
  },
  {
   "cell_type": "markdown",
   "metadata": {},
   "source": [
    "Plot a boxplot for quantity to see if there are any outliers. If there are, remove those instances:"
   ]
  },
  {
   "cell_type": "code",
   "execution_count": 21,
   "metadata": {
    "colab": {
     "base_uri": "https://localhost:8080/",
     "height": 388
    },
    "colab_type": "code",
    "id": "DqOjpSGVPLLq",
    "outputId": "3e01189e-822c-4271-af19-e21219c6cd17"
   },
   "outputs": [
    {
     "data": {
      "image/png": "[encoded data removed]",
      "text/plain": [
       "<Figure size 864x432 with 1 Axes>"
      ]
     },
     "metadata": {
      "needs_background": "light"
     },
     "output_type": "display_data"
    }
   ],
   "source": [
    "plt.subplots(figsize = (12, 6))\n",
    "q = sns.boxplot(new_retail.quantity)"
   ]
  },
  {
   "cell_type": "markdown",
   "metadata": {
    "colab": {
     "base_uri": "https://localhost:8080/",
     "height": 297
    },
    "colab_type": "code",
    "id": "5kZ5ApY5PLLy",
    "outputId": "66d53a49-9a26-4129-8498-013ec50bfdd8"
   },
   "source": [
    "Plot the boxplot for quantity without outliers:"
   ]
  },
  {
   "cell_type": "code",
   "execution_count": 22,
   "metadata": {
    "colab": {
     "base_uri": "https://localhost:8080/",
     "height": 85
    },
    "colab_type": "code",
    "id": "tztatY8NPLLt",
    "outputId": "efee7b82-86bc-4aca-ee94-a231371f62c5"
   },
   "outputs": [
    {
     "data": {
      "text/html": [
       "<div>\n",
       "<style scoped>\n",
       "    .dataframe tbody tr th:only-of-type {\n",
       "        vertical-align: middle;\n",
       "    }\n",
       "\n",
       "    .dataframe tbody tr th {\n",
       "        vertical-align: top;\n",
       "    }\n",
       "\n",
       "    .dataframe thead th {\n",
       "        text-align: right;\n",
       "    }\n",
       "</style>\n",
       "<table border=\"1\" class=\"dataframe\">\n",
       "  <thead>\n",
       "    <tr style=\"text-align: right;\">\n",
       "      <th></th>\n",
       "      <th>quantity</th>\n",
       "      <th>unit_price</th>\n",
       "      <th>cust_id</th>\n",
       "    </tr>\n",
       "  </thead>\n",
       "  <tbody>\n",
       "    <tr>\n",
       "      <td>count</td>\n",
       "      <td>1.041668e+06</td>\n",
       "      <td>1.041668e+06</td>\n",
       "      <td>805547.000000</td>\n",
       "    </tr>\n",
       "    <tr>\n",
       "      <td>mean</td>\n",
       "      <td>1.081448e+01</td>\n",
       "      <td>4.052940e+00</td>\n",
       "      <td>15331.957294</td>\n",
       "    </tr>\n",
       "    <tr>\n",
       "      <td>std</td>\n",
       "      <td>6.651307e+01</td>\n",
       "      <td>4.518691e+01</td>\n",
       "      <td>1696.735430</td>\n",
       "    </tr>\n",
       "    <tr>\n",
       "      <td>min</td>\n",
       "      <td>1.000000e+00</td>\n",
       "      <td>1.000000e-03</td>\n",
       "      <td>12346.000000</td>\n",
       "    </tr>\n",
       "    <tr>\n",
       "      <td>25%</td>\n",
       "      <td>1.000000e+00</td>\n",
       "      <td>1.250000e+00</td>\n",
       "      <td>13982.000000</td>\n",
       "    </tr>\n",
       "    <tr>\n",
       "      <td>50%</td>\n",
       "      <td>3.000000e+00</td>\n",
       "      <td>2.100000e+00</td>\n",
       "      <td>15271.000000</td>\n",
       "    </tr>\n",
       "    <tr>\n",
       "      <td>75%</td>\n",
       "      <td>1.000000e+01</td>\n",
       "      <td>4.130000e+00</td>\n",
       "      <td>16805.000000</td>\n",
       "    </tr>\n",
       "    <tr>\n",
       "      <td>max</td>\n",
       "      <td>1.915200e+04</td>\n",
       "      <td>1.354133e+04</td>\n",
       "      <td>18287.000000</td>\n",
       "    </tr>\n",
       "  </tbody>\n",
       "</table>\n",
       "</div>"
      ],
      "text/plain": [
       "           quantity    unit_price        cust_id\n",
       "count  1.041668e+06  1.041668e+06  805547.000000\n",
       "mean   1.081448e+01  4.052940e+00   15331.957294\n",
       "std    6.651307e+01  4.518691e+01    1696.735430\n",
       "min    1.000000e+00  1.000000e-03   12346.000000\n",
       "25%    1.000000e+00  1.250000e+00   13982.000000\n",
       "50%    3.000000e+00  2.100000e+00   15271.000000\n",
       "75%    1.000000e+01  4.130000e+00   16805.000000\n",
       "max    1.915200e+04  1.354133e+04   18287.000000"
      ]
     },
     "execution_count": 22,
     "metadata": {},
     "output_type": "execute_result"
    }
   ],
   "source": [
    "new_retail = new_retail[new_retail.quantity < 25000]\n",
    "new_retail.describe()"
   ]
  },
  {
   "cell_type": "markdown",
   "metadata": {},
   "source": [
    "Plot a boxplot for the quantity column of the new_retail DataFrame."
   ]
  },
  {
   "cell_type": "code",
   "execution_count": 23,
   "metadata": {
    "colab": {
     "base_uri": "https://localhost:8080/",
     "height": 279
    },
    "colab_type": "code",
    "id": "juhNJCMOPLL0",
    "outputId": "1c07478d-c4ab-4556-9789-3d8ba2821817"
   },
   "outputs": [
    {
     "data": {
      "image/png": "[encoded data removed]",
      "text/plain": [
       "<Figure size 432x288 with 1 Axes>"
      ]
     },
     "metadata": {
      "needs_background": "light"
     },
     "output_type": "display_data"
    }
   ],
   "source": [
    "q_new = sns.boxplot(new_retail.quantity)"
   ]
  },
  {
   "cell_type": "markdown",
   "metadata": {},
   "source": [
    "Use the following code to get some details about the new_retail DataFrame:"
   ]
  },
  {
   "cell_type": "code",
   "execution_count": 24,
   "metadata": {
    "colab": {
     "base_uri": "https://localhost:8080/",
     "height": 49
    },
    "colab_type": "code",
    "id": "abDIpK-APLL2",
    "outputId": "8d6330d5-4189-4a8c-b9a5-58424887c76e"
   },
   "outputs": [
    {
     "data": {
      "text/html": [
       "<div>\n",
       "<style scoped>\n",
       "    .dataframe tbody tr th:only-of-type {\n",
       "        vertical-align: middle;\n",
       "    }\n",
       "\n",
       "    .dataframe tbody tr th {\n",
       "        vertical-align: top;\n",
       "    }\n",
       "\n",
       "    .dataframe thead th {\n",
       "        text-align: right;\n",
       "    }\n",
       "</style>\n",
       "<table border=\"1\" class=\"dataframe\">\n",
       "  <thead>\n",
       "    <tr style=\"text-align: right;\">\n",
       "      <th></th>\n",
       "      <th></th>\n",
       "      <th>invoice</th>\n",
       "      <th>stock_code</th>\n",
       "      <th>desc</th>\n",
       "      <th>quantity</th>\n",
       "      <th>date</th>\n",
       "      <th>unit_price</th>\n",
       "      <th>cust_id</th>\n",
       "      <th>country</th>\n",
       "    </tr>\n",
       "  </thead>\n",
       "  <tbody>\n",
       "  </tbody>\n",
       "</table>\n",
       "</div>"
      ],
      "text/plain": [
       "Empty DataFrame\n",
       "Columns: [invoice, stock_code, desc, quantity, date, unit_price, cust_id, country]\n",
       "Index: []"
      ]
     },
     "execution_count": 24,
     "metadata": {},
     "output_type": "execute_result"
    }
   ],
   "source": [
    "new_retail[(new_retail.desc.isnull()) & (new_retail.cust_id.isnull())]"
   ]
  },
  {
   "cell_type": "markdown",
   "metadata": {},
   "source": [
    "Fetch the details of the DataFrame using the .info() function:"
   ]
  },
  {
   "cell_type": "code",
   "execution_count": 25,
   "metadata": {
    "colab": {
     "base_uri": "https://localhost:8080/",
     "height": 238
    },
    "colab_type": "code",
    "id": "U4a2p4N2PLL5",
    "outputId": "4edf4fde-ca5d-48d9-f3c4-ae4a0e29fef3"
   },
   "outputs": [
    {
     "name": "stdout",
     "output_type": "stream",
     "text": [
      "<class 'pandas.core.frame.DataFrame'>\n",
      "MultiIndex: 1041668 entries, (09-10, 0) to (10-11, 541909)\n",
      "Data columns (total 8 columns):\n",
      "invoice       1041668 non-null object\n",
      "stock_code    1041668 non-null object\n",
      "desc          1041668 non-null object\n",
      "quantity      1041668 non-null int64\n",
      "date          1041668 non-null object\n",
      "unit_price    1041668 non-null float64\n",
      "cust_id       805547 non-null float64\n",
      "country       1041668 non-null object\n",
      "dtypes: float64(2), int64(1), object(5)\n",
      "memory usage: 72.7+ MB\n"
     ]
    }
   ],
   "source": [
    "new_retail.info()"
   ]
  },
  {
   "cell_type": "markdown",
   "metadata": {},
   "source": [
    "Drop all the null values in the new DataFrame:"
   ]
  },
  {
   "cell_type": "code",
   "execution_count": 26,
   "metadata": {
    "colab": {
     "base_uri": "https://localhost:8080/",
     "height": 238
    },
    "colab_type": "code",
    "id": "aUbWK6CePLL7",
    "outputId": "0de49ad9-f469-4c84-fa6e-daeca767c401"
   },
   "outputs": [
    {
     "name": "stdout",
     "output_type": "stream",
     "text": [
      "<class 'pandas.core.frame.DataFrame'>\n",
      "MultiIndex: 805547 entries, (09-10, 0) to (10-11, 541909)\n",
      "Data columns (total 8 columns):\n",
      "invoice       805547 non-null object\n",
      "stock_code    805547 non-null object\n",
      "desc          805547 non-null object\n",
      "quantity      805547 non-null int64\n",
      "date          805547 non-null object\n",
      "unit_price    805547 non-null float64\n",
      "cust_id       805547 non-null float64\n",
      "country       805547 non-null object\n",
      "dtypes: float64(2), int64(1), object(5)\n",
      "memory usage: 57.1+ MB\n"
     ]
    }
   ],
   "source": [
    "new_retail = new_retail.dropna()\n",
    "new_retail.info()"
   ]
  },
  {
   "cell_type": "markdown",
   "metadata": {},
   "source": [
    "Move the values to a new DataFrame to avoid confusion:"
   ]
  },
  {
   "cell_type": "code",
   "execution_count": 27,
   "metadata": {
    "colab": {
     "base_uri": "https://localhost:8080/",
     "height": 204
    },
    "colab_type": "code",
    "id": "7_gvUvqQPLL_",
    "outputId": "7d01da18-1244-4a35-b1b0-81a22c8384fa"
   },
   "outputs": [
    {
     "data": {
      "text/html": [
       "<div>\n",
       "<style scoped>\n",
       "    .dataframe tbody tr th:only-of-type {\n",
       "        vertical-align: middle;\n",
       "    }\n",
       "\n",
       "    .dataframe tbody tr th {\n",
       "        vertical-align: top;\n",
       "    }\n",
       "\n",
       "    .dataframe thead th {\n",
       "        text-align: right;\n",
       "    }\n",
       "</style>\n",
       "<table border=\"1\" class=\"dataframe\">\n",
       "  <thead>\n",
       "    <tr style=\"text-align: right;\">\n",
       "      <th></th>\n",
       "      <th></th>\n",
       "      <th>invoice</th>\n",
       "      <th>stock_code</th>\n",
       "      <th>desc</th>\n",
       "      <th>quantity</th>\n",
       "      <th>date</th>\n",
       "      <th>unit_price</th>\n",
       "      <th>cust_id</th>\n",
       "      <th>country</th>\n",
       "    </tr>\n",
       "  </thead>\n",
       "  <tbody>\n",
       "    <tr>\n",
       "      <td rowspan=\"5\" valign=\"top\">09-10</td>\n",
       "      <td>0</td>\n",
       "      <td>489434</td>\n",
       "      <td>85048</td>\n",
       "      <td>15CM CHRISTMAS GLASS BALL 20 LIGHTS</td>\n",
       "      <td>12</td>\n",
       "      <td>01/12/2009 07:45</td>\n",
       "      <td>6.95</td>\n",
       "      <td>13085.0</td>\n",
       "      <td>United Kingdom</td>\n",
       "    </tr>\n",
       "    <tr>\n",
       "      <td>1</td>\n",
       "      <td>489434</td>\n",
       "      <td>79323P</td>\n",
       "      <td>PINK CHERRY LIGHTS</td>\n",
       "      <td>12</td>\n",
       "      <td>01/12/2009 07:45</td>\n",
       "      <td>6.75</td>\n",
       "      <td>13085.0</td>\n",
       "      <td>United Kingdom</td>\n",
       "    </tr>\n",
       "    <tr>\n",
       "      <td>2</td>\n",
       "      <td>489434</td>\n",
       "      <td>79323W</td>\n",
       "      <td>WHITE CHERRY LIGHTS</td>\n",
       "      <td>12</td>\n",
       "      <td>01/12/2009 07:45</td>\n",
       "      <td>6.75</td>\n",
       "      <td>13085.0</td>\n",
       "      <td>United Kingdom</td>\n",
       "    </tr>\n",
       "    <tr>\n",
       "      <td>3</td>\n",
       "      <td>489434</td>\n",
       "      <td>22041</td>\n",
       "      <td>RECORD FRAME 7\" SINGLE SIZE</td>\n",
       "      <td>48</td>\n",
       "      <td>01/12/2009 07:45</td>\n",
       "      <td>2.10</td>\n",
       "      <td>13085.0</td>\n",
       "      <td>United Kingdom</td>\n",
       "    </tr>\n",
       "    <tr>\n",
       "      <td>4</td>\n",
       "      <td>489434</td>\n",
       "      <td>21232</td>\n",
       "      <td>STRAWBERRY CERAMIC TRINKET BOX</td>\n",
       "      <td>24</td>\n",
       "      <td>01/12/2009 07:45</td>\n",
       "      <td>1.25</td>\n",
       "      <td>13085.0</td>\n",
       "      <td>United Kingdom</td>\n",
       "    </tr>\n",
       "  </tbody>\n",
       "</table>\n",
       "</div>"
      ],
      "text/plain": [
       "        invoice stock_code                                 desc  quantity  \\\n",
       "09-10 0  489434      85048  15CM CHRISTMAS GLASS BALL 20 LIGHTS        12   \n",
       "      1  489434     79323P                   PINK CHERRY LIGHTS        12   \n",
       "      2  489434     79323W                  WHITE CHERRY LIGHTS        12   \n",
       "      3  489434      22041         RECORD FRAME 7\" SINGLE SIZE         48   \n",
       "      4  489434      21232       STRAWBERRY CERAMIC TRINKET BOX        24   \n",
       "\n",
       "                     date  unit_price  cust_id         country  \n",
       "09-10 0  01/12/2009 07:45        6.95  13085.0  United Kingdom  \n",
       "      1  01/12/2009 07:45        6.75  13085.0  United Kingdom  \n",
       "      2  01/12/2009 07:45        6.75  13085.0  United Kingdom  \n",
       "      3  01/12/2009 07:45        2.10  13085.0  United Kingdom  \n",
       "      4  01/12/2009 07:45        1.25  13085.0  United Kingdom  "
      ]
     },
     "execution_count": 27,
     "metadata": {},
     "output_type": "execute_result"
    }
   ],
   "source": [
    "retail = new_retail\n",
    "retail.head()"
   ]
  },
  {
   "cell_type": "markdown",
   "metadata": {},
   "source": [
    "# Preparing Our Data"
   ]
  },
  {
   "cell_type": "markdown",
   "metadata": {},
   "source": [
    "Convert the text in the desc column to lowercase:"
   ]
  },
  {
   "cell_type": "code",
   "execution_count": 28,
   "metadata": {
    "colab": {
     "base_uri": "https://localhost:8080/",
     "height": 204
    },
    "colab_type": "code",
    "id": "QrbrG_7WPLMC",
    "outputId": "0a50a9aa-cada-45eb-e4fb-9fdb17b01272"
   },
   "outputs": [
    {
     "data": {
      "text/html": [
       "<div>\n",
       "<style scoped>\n",
       "    .dataframe tbody tr th:only-of-type {\n",
       "        vertical-align: middle;\n",
       "    }\n",
       "\n",
       "    .dataframe tbody tr th {\n",
       "        vertical-align: top;\n",
       "    }\n",
       "\n",
       "    .dataframe thead th {\n",
       "        text-align: right;\n",
       "    }\n",
       "</style>\n",
       "<table border=\"1\" class=\"dataframe\">\n",
       "  <thead>\n",
       "    <tr style=\"text-align: right;\">\n",
       "      <th></th>\n",
       "      <th></th>\n",
       "      <th>invoice</th>\n",
       "      <th>stock_code</th>\n",
       "      <th>desc</th>\n",
       "      <th>quantity</th>\n",
       "      <th>date</th>\n",
       "      <th>unit_price</th>\n",
       "      <th>cust_id</th>\n",
       "      <th>country</th>\n",
       "    </tr>\n",
       "  </thead>\n",
       "  <tbody>\n",
       "    <tr>\n",
       "      <td rowspan=\"5\" valign=\"top\">09-10</td>\n",
       "      <td>0</td>\n",
       "      <td>489434</td>\n",
       "      <td>85048</td>\n",
       "      <td>15cm christmas glass ball 20 lights</td>\n",
       "      <td>12</td>\n",
       "      <td>01/12/2009 07:45</td>\n",
       "      <td>6.95</td>\n",
       "      <td>13085.0</td>\n",
       "      <td>United Kingdom</td>\n",
       "    </tr>\n",
       "    <tr>\n",
       "      <td>1</td>\n",
       "      <td>489434</td>\n",
       "      <td>79323P</td>\n",
       "      <td>pink cherry lights</td>\n",
       "      <td>12</td>\n",
       "      <td>01/12/2009 07:45</td>\n",
       "      <td>6.75</td>\n",
       "      <td>13085.0</td>\n",
       "      <td>United Kingdom</td>\n",
       "    </tr>\n",
       "    <tr>\n",
       "      <td>2</td>\n",
       "      <td>489434</td>\n",
       "      <td>79323W</td>\n",
       "      <td>white cherry lights</td>\n",
       "      <td>12</td>\n",
       "      <td>01/12/2009 07:45</td>\n",
       "      <td>6.75</td>\n",
       "      <td>13085.0</td>\n",
       "      <td>United Kingdom</td>\n",
       "    </tr>\n",
       "    <tr>\n",
       "      <td>3</td>\n",
       "      <td>489434</td>\n",
       "      <td>22041</td>\n",
       "      <td>record frame 7\" single size</td>\n",
       "      <td>48</td>\n",
       "      <td>01/12/2009 07:45</td>\n",
       "      <td>2.10</td>\n",
       "      <td>13085.0</td>\n",
       "      <td>United Kingdom</td>\n",
       "    </tr>\n",
       "    <tr>\n",
       "      <td>4</td>\n",
       "      <td>489434</td>\n",
       "      <td>21232</td>\n",
       "      <td>strawberry ceramic trinket box</td>\n",
       "      <td>24</td>\n",
       "      <td>01/12/2009 07:45</td>\n",
       "      <td>1.25</td>\n",
       "      <td>13085.0</td>\n",
       "      <td>United Kingdom</td>\n",
       "    </tr>\n",
       "  </tbody>\n",
       "</table>\n",
       "</div>"
      ],
      "text/plain": [
       "        invoice stock_code                                 desc  quantity  \\\n",
       "09-10 0  489434      85048  15cm christmas glass ball 20 lights        12   \n",
       "      1  489434     79323P                   pink cherry lights        12   \n",
       "      2  489434     79323W                  white cherry lights        12   \n",
       "      3  489434      22041         record frame 7\" single size         48   \n",
       "      4  489434      21232       strawberry ceramic trinket box        24   \n",
       "\n",
       "                     date  unit_price  cust_id         country  \n",
       "09-10 0  01/12/2009 07:45        6.95  13085.0  United Kingdom  \n",
       "      1  01/12/2009 07:45        6.75  13085.0  United Kingdom  \n",
       "      2  01/12/2009 07:45        6.75  13085.0  United Kingdom  \n",
       "      3  01/12/2009 07:45        2.10  13085.0  United Kingdom  \n",
       "      4  01/12/2009 07:45        1.25  13085.0  United Kingdom  "
      ]
     },
     "execution_count": 28,
     "metadata": {},
     "output_type": "execute_result"
    }
   ],
   "source": [
    "retail.desc = retail.desc.str.lower()\n",
    "retail.head()"
   ]
  },
  {
   "cell_type": "markdown",
   "metadata": {},
   "source": [
    "Convert the date column into datetime format:"
   ]
  },
  {
   "cell_type": "code",
   "execution_count": 29,
   "metadata": {
    "colab": {
     "base_uri": "https://localhost:8080/",
     "height": 204
    },
    "colab_type": "code",
    "id": "4151dc__PLMF",
    "outputId": "80ca83c4-f9f0-4b98-d311-f8e9ee5580fd"
   },
   "outputs": [
    {
     "data": {
      "text/html": [
       "<div>\n",
       "<style scoped>\n",
       "    .dataframe tbody tr th:only-of-type {\n",
       "        vertical-align: middle;\n",
       "    }\n",
       "\n",
       "    .dataframe tbody tr th {\n",
       "        vertical-align: top;\n",
       "    }\n",
       "\n",
       "    .dataframe thead th {\n",
       "        text-align: right;\n",
       "    }\n",
       "</style>\n",
       "<table border=\"1\" class=\"dataframe\">\n",
       "  <thead>\n",
       "    <tr style=\"text-align: right;\">\n",
       "      <th></th>\n",
       "      <th></th>\n",
       "      <th>invoice</th>\n",
       "      <th>stock_code</th>\n",
       "      <th>desc</th>\n",
       "      <th>quantity</th>\n",
       "      <th>date</th>\n",
       "      <th>unit_price</th>\n",
       "      <th>cust_id</th>\n",
       "      <th>country</th>\n",
       "    </tr>\n",
       "  </thead>\n",
       "  <tbody>\n",
       "    <tr>\n",
       "      <td rowspan=\"5\" valign=\"top\">09-10</td>\n",
       "      <td>0</td>\n",
       "      <td>489434</td>\n",
       "      <td>85048</td>\n",
       "      <td>15cm christmas glass ball 20 lights</td>\n",
       "      <td>12</td>\n",
       "      <td>2009-12-01 07:45:00</td>\n",
       "      <td>6.95</td>\n",
       "      <td>13085.0</td>\n",
       "      <td>United Kingdom</td>\n",
       "    </tr>\n",
       "    <tr>\n",
       "      <td>1</td>\n",
       "      <td>489434</td>\n",
       "      <td>79323P</td>\n",
       "      <td>pink cherry lights</td>\n",
       "      <td>12</td>\n",
       "      <td>2009-12-01 07:45:00</td>\n",
       "      <td>6.75</td>\n",
       "      <td>13085.0</td>\n",
       "      <td>United Kingdom</td>\n",
       "    </tr>\n",
       "    <tr>\n",
       "      <td>2</td>\n",
       "      <td>489434</td>\n",
       "      <td>79323W</td>\n",
       "      <td>white cherry lights</td>\n",
       "      <td>12</td>\n",
       "      <td>2009-12-01 07:45:00</td>\n",
       "      <td>6.75</td>\n",
       "      <td>13085.0</td>\n",
       "      <td>United Kingdom</td>\n",
       "    </tr>\n",
       "    <tr>\n",
       "      <td>3</td>\n",
       "      <td>489434</td>\n",
       "      <td>22041</td>\n",
       "      <td>record frame 7\" single size</td>\n",
       "      <td>48</td>\n",
       "      <td>2009-12-01 07:45:00</td>\n",
       "      <td>2.10</td>\n",
       "      <td>13085.0</td>\n",
       "      <td>United Kingdom</td>\n",
       "    </tr>\n",
       "    <tr>\n",
       "      <td>4</td>\n",
       "      <td>489434</td>\n",
       "      <td>21232</td>\n",
       "      <td>strawberry ceramic trinket box</td>\n",
       "      <td>24</td>\n",
       "      <td>2009-12-01 07:45:00</td>\n",
       "      <td>1.25</td>\n",
       "      <td>13085.0</td>\n",
       "      <td>United Kingdom</td>\n",
       "    </tr>\n",
       "  </tbody>\n",
       "</table>\n",
       "</div>"
      ],
      "text/plain": [
       "        invoice stock_code                                 desc  quantity  \\\n",
       "09-10 0  489434      85048  15cm christmas glass ball 20 lights        12   \n",
       "      1  489434     79323P                   pink cherry lights        12   \n",
       "      2  489434     79323W                  white cherry lights        12   \n",
       "      3  489434      22041         record frame 7\" single size         48   \n",
       "      4  489434      21232       strawberry ceramic trinket box        24   \n",
       "\n",
       "                       date  unit_price  cust_id         country  \n",
       "09-10 0 2009-12-01 07:45:00        6.95  13085.0  United Kingdom  \n",
       "      1 2009-12-01 07:45:00        6.75  13085.0  United Kingdom  \n",
       "      2 2009-12-01 07:45:00        6.75  13085.0  United Kingdom  \n",
       "      3 2009-12-01 07:45:00        2.10  13085.0  United Kingdom  \n",
       "      4 2009-12-01 07:45:00        1.25  13085.0  United Kingdom  "
      ]
     },
     "execution_count": 29,
     "metadata": {},
     "output_type": "execute_result"
    }
   ],
   "source": [
    "retail['date'] = pd.to_datetime(retail.date, format = '%d/%m/%Y %H:%M')\n",
    "retail.head()"
   ]
  },
  {
   "cell_type": "markdown",
   "metadata": {},
   "source": [
    "Add six new columns with the following names: year_month, year, month, day, day_of_week, and hour:"
   ]
  },
  {
   "cell_type": "code",
   "execution_count": 30,
   "metadata": {
    "colab": {
     "base_uri": "https://localhost:8080/",
     "height": 204
    },
    "colab_type": "code",
    "id": "Nj9M4avjPLMH",
    "outputId": "8ddc3d39-1d06-42f3-98c5-5f506b9f28e2"
   },
   "outputs": [
    {
     "data": {
      "text/html": [
       "<div>\n",
       "<style scoped>\n",
       "    .dataframe tbody tr th:only-of-type {\n",
       "        vertical-align: middle;\n",
       "    }\n",
       "\n",
       "    .dataframe tbody tr th {\n",
       "        vertical-align: top;\n",
       "    }\n",
       "\n",
       "    .dataframe thead th {\n",
       "        text-align: right;\n",
       "    }\n",
       "</style>\n",
       "<table border=\"1\" class=\"dataframe\">\n",
       "  <thead>\n",
       "    <tr style=\"text-align: right;\">\n",
       "      <th></th>\n",
       "      <th></th>\n",
       "      <th>invoice</th>\n",
       "      <th>stock_code</th>\n",
       "      <th>desc</th>\n",
       "      <th>quantity</th>\n",
       "      <th>year_month</th>\n",
       "      <th>year</th>\n",
       "      <th>month</th>\n",
       "      <th>day</th>\n",
       "      <th>hour</th>\n",
       "      <th>day_of_week</th>\n",
       "      <th>date</th>\n",
       "      <th>unit_price</th>\n",
       "      <th>cust_id</th>\n",
       "      <th>country</th>\n",
       "    </tr>\n",
       "  </thead>\n",
       "  <tbody>\n",
       "    <tr>\n",
       "      <td rowspan=\"5\" valign=\"top\">09-10</td>\n",
       "      <td>0</td>\n",
       "      <td>489434</td>\n",
       "      <td>85048</td>\n",
       "      <td>15cm christmas glass ball 20 lights</td>\n",
       "      <td>12</td>\n",
       "      <td>200912</td>\n",
       "      <td>2009</td>\n",
       "      <td>12</td>\n",
       "      <td>1</td>\n",
       "      <td>7</td>\n",
       "      <td>2</td>\n",
       "      <td>2009-12-01 07:45:00</td>\n",
       "      <td>6.95</td>\n",
       "      <td>13085.0</td>\n",
       "      <td>United Kingdom</td>\n",
       "    </tr>\n",
       "    <tr>\n",
       "      <td>1</td>\n",
       "      <td>489434</td>\n",
       "      <td>79323P</td>\n",
       "      <td>pink cherry lights</td>\n",
       "      <td>12</td>\n",
       "      <td>200912</td>\n",
       "      <td>2009</td>\n",
       "      <td>12</td>\n",
       "      <td>1</td>\n",
       "      <td>7</td>\n",
       "      <td>2</td>\n",
       "      <td>2009-12-01 07:45:00</td>\n",
       "      <td>6.75</td>\n",
       "      <td>13085.0</td>\n",
       "      <td>United Kingdom</td>\n",
       "    </tr>\n",
       "    <tr>\n",
       "      <td>2</td>\n",
       "      <td>489434</td>\n",
       "      <td>79323W</td>\n",
       "      <td>white cherry lights</td>\n",
       "      <td>12</td>\n",
       "      <td>200912</td>\n",
       "      <td>2009</td>\n",
       "      <td>12</td>\n",
       "      <td>1</td>\n",
       "      <td>7</td>\n",
       "      <td>2</td>\n",
       "      <td>2009-12-01 07:45:00</td>\n",
       "      <td>6.75</td>\n",
       "      <td>13085.0</td>\n",
       "      <td>United Kingdom</td>\n",
       "    </tr>\n",
       "    <tr>\n",
       "      <td>3</td>\n",
       "      <td>489434</td>\n",
       "      <td>22041</td>\n",
       "      <td>record frame 7\" single size</td>\n",
       "      <td>48</td>\n",
       "      <td>200912</td>\n",
       "      <td>2009</td>\n",
       "      <td>12</td>\n",
       "      <td>1</td>\n",
       "      <td>7</td>\n",
       "      <td>2</td>\n",
       "      <td>2009-12-01 07:45:00</td>\n",
       "      <td>2.10</td>\n",
       "      <td>13085.0</td>\n",
       "      <td>United Kingdom</td>\n",
       "    </tr>\n",
       "    <tr>\n",
       "      <td>4</td>\n",
       "      <td>489434</td>\n",
       "      <td>21232</td>\n",
       "      <td>strawberry ceramic trinket box</td>\n",
       "      <td>24</td>\n",
       "      <td>200912</td>\n",
       "      <td>2009</td>\n",
       "      <td>12</td>\n",
       "      <td>1</td>\n",
       "      <td>7</td>\n",
       "      <td>2</td>\n",
       "      <td>2009-12-01 07:45:00</td>\n",
       "      <td>1.25</td>\n",
       "      <td>13085.0</td>\n",
       "      <td>United Kingdom</td>\n",
       "    </tr>\n",
       "  </tbody>\n",
       "</table>\n",
       "</div>"
      ],
      "text/plain": [
       "        invoice stock_code                                 desc  quantity  \\\n",
       "09-10 0  489434      85048  15cm christmas glass ball 20 lights        12   \n",
       "      1  489434     79323P                   pink cherry lights        12   \n",
       "      2  489434     79323W                  white cherry lights        12   \n",
       "      3  489434      22041         record frame 7\" single size         48   \n",
       "      4  489434      21232       strawberry ceramic trinket box        24   \n",
       "\n",
       "         year_month  year  month  day  hour  day_of_week                date  \\\n",
       "09-10 0      200912  2009     12    1     7            2 2009-12-01 07:45:00   \n",
       "      1      200912  2009     12    1     7            2 2009-12-01 07:45:00   \n",
       "      2      200912  2009     12    1     7            2 2009-12-01 07:45:00   \n",
       "      3      200912  2009     12    1     7            2 2009-12-01 07:45:00   \n",
       "      4      200912  2009     12    1     7            2 2009-12-01 07:45:00   \n",
       "\n",
       "         unit_price  cust_id         country  \n",
       "09-10 0        6.95  13085.0  United Kingdom  \n",
       "      1        6.75  13085.0  United Kingdom  \n",
       "      2        6.75  13085.0  United Kingdom  \n",
       "      3        2.10  13085.0  United Kingdom  \n",
       "      4        1.25  13085.0  United Kingdom  "
      ]
     },
     "execution_count": 30,
     "metadata": {},
     "output_type": "execute_result"
    }
   ],
   "source": [
    "retail.insert(loc = 4, column = 'year_month', value = retail.date.map(lambda x: 100 * x.year + x.month))\n",
    "retail.insert(loc = 5, column = 'year', value = retail.date.dt.year)\n",
    "retail.insert(loc = 6, column = 'month', value = retail.date.dt.month)\n",
    "retail.insert(loc = 7, column = 'day', value = retail.date.dt.day)\n",
    "retail.insert(loc = 8, column ='hour', value = retail.date.dt.hour)\n",
    "retail.insert(loc = 9, column='day_of_week', value=(retail.date.dt.dayofweek)+1)\n",
    "retail.head()"
   ]
  },
  {
   "cell_type": "markdown",
   "metadata": {},
   "source": [
    "Add a column called spent, which is the quantity multiplied by the unit_price:"
   ]
  },
  {
   "cell_type": "code",
   "execution_count": 31,
   "metadata": {
    "colab": {
     "base_uri": "https://localhost:8080/",
     "height": 204
    },
    "colab_type": "code",
    "id": "48kB5QMsPLML",
    "outputId": "c7c8666a-6f6b-4960-b5d3-6baed4af6683"
   },
   "outputs": [
    {
     "data": {
      "text/html": [
       "<div>\n",
       "<style scoped>\n",
       "    .dataframe tbody tr th:only-of-type {\n",
       "        vertical-align: middle;\n",
       "    }\n",
       "\n",
       "    .dataframe tbody tr th {\n",
       "        vertical-align: top;\n",
       "    }\n",
       "\n",
       "    .dataframe thead th {\n",
       "        text-align: right;\n",
       "    }\n",
       "</style>\n",
       "<table border=\"1\" class=\"dataframe\">\n",
       "  <thead>\n",
       "    <tr style=\"text-align: right;\">\n",
       "      <th></th>\n",
       "      <th></th>\n",
       "      <th>invoice</th>\n",
       "      <th>stock_code</th>\n",
       "      <th>desc</th>\n",
       "      <th>quantity</th>\n",
       "      <th>year_month</th>\n",
       "      <th>year</th>\n",
       "      <th>month</th>\n",
       "      <th>day</th>\n",
       "      <th>hour</th>\n",
       "      <th>day_of_week</th>\n",
       "      <th>date</th>\n",
       "      <th>spent</th>\n",
       "      <th>unit_price</th>\n",
       "      <th>cust_id</th>\n",
       "      <th>country</th>\n",
       "    </tr>\n",
       "  </thead>\n",
       "  <tbody>\n",
       "    <tr>\n",
       "      <td rowspan=\"5\" valign=\"top\">09-10</td>\n",
       "      <td>0</td>\n",
       "      <td>489434</td>\n",
       "      <td>85048</td>\n",
       "      <td>15cm christmas glass ball 20 lights</td>\n",
       "      <td>12</td>\n",
       "      <td>200912</td>\n",
       "      <td>2009</td>\n",
       "      <td>12</td>\n",
       "      <td>1</td>\n",
       "      <td>7</td>\n",
       "      <td>2</td>\n",
       "      <td>2009-12-01 07:45:00</td>\n",
       "      <td>83.4</td>\n",
       "      <td>6.95</td>\n",
       "      <td>13085.0</td>\n",
       "      <td>United Kingdom</td>\n",
       "    </tr>\n",
       "    <tr>\n",
       "      <td>1</td>\n",
       "      <td>489434</td>\n",
       "      <td>79323P</td>\n",
       "      <td>pink cherry lights</td>\n",
       "      <td>12</td>\n",
       "      <td>200912</td>\n",
       "      <td>2009</td>\n",
       "      <td>12</td>\n",
       "      <td>1</td>\n",
       "      <td>7</td>\n",
       "      <td>2</td>\n",
       "      <td>2009-12-01 07:45:00</td>\n",
       "      <td>81.0</td>\n",
       "      <td>6.75</td>\n",
       "      <td>13085.0</td>\n",
       "      <td>United Kingdom</td>\n",
       "    </tr>\n",
       "    <tr>\n",
       "      <td>2</td>\n",
       "      <td>489434</td>\n",
       "      <td>79323W</td>\n",
       "      <td>white cherry lights</td>\n",
       "      <td>12</td>\n",
       "      <td>200912</td>\n",
       "      <td>2009</td>\n",
       "      <td>12</td>\n",
       "      <td>1</td>\n",
       "      <td>7</td>\n",
       "      <td>2</td>\n",
       "      <td>2009-12-01 07:45:00</td>\n",
       "      <td>81.0</td>\n",
       "      <td>6.75</td>\n",
       "      <td>13085.0</td>\n",
       "      <td>United Kingdom</td>\n",
       "    </tr>\n",
       "    <tr>\n",
       "      <td>3</td>\n",
       "      <td>489434</td>\n",
       "      <td>22041</td>\n",
       "      <td>record frame 7\" single size</td>\n",
       "      <td>48</td>\n",
       "      <td>200912</td>\n",
       "      <td>2009</td>\n",
       "      <td>12</td>\n",
       "      <td>1</td>\n",
       "      <td>7</td>\n",
       "      <td>2</td>\n",
       "      <td>2009-12-01 07:45:00</td>\n",
       "      <td>100.8</td>\n",
       "      <td>2.10</td>\n",
       "      <td>13085.0</td>\n",
       "      <td>United Kingdom</td>\n",
       "    </tr>\n",
       "    <tr>\n",
       "      <td>4</td>\n",
       "      <td>489434</td>\n",
       "      <td>21232</td>\n",
       "      <td>strawberry ceramic trinket box</td>\n",
       "      <td>24</td>\n",
       "      <td>200912</td>\n",
       "      <td>2009</td>\n",
       "      <td>12</td>\n",
       "      <td>1</td>\n",
       "      <td>7</td>\n",
       "      <td>2</td>\n",
       "      <td>2009-12-01 07:45:00</td>\n",
       "      <td>30.0</td>\n",
       "      <td>1.25</td>\n",
       "      <td>13085.0</td>\n",
       "      <td>United Kingdom</td>\n",
       "    </tr>\n",
       "  </tbody>\n",
       "</table>\n",
       "</div>"
      ],
      "text/plain": [
       "        invoice stock_code                                 desc  quantity  \\\n",
       "09-10 0  489434      85048  15cm christmas glass ball 20 lights        12   \n",
       "      1  489434     79323P                   pink cherry lights        12   \n",
       "      2  489434     79323W                  white cherry lights        12   \n",
       "      3  489434      22041         record frame 7\" single size         48   \n",
       "      4  489434      21232       strawberry ceramic trinket box        24   \n",
       "\n",
       "         year_month  year  month  day  hour  day_of_week                date  \\\n",
       "09-10 0      200912  2009     12    1     7            2 2009-12-01 07:45:00   \n",
       "      1      200912  2009     12    1     7            2 2009-12-01 07:45:00   \n",
       "      2      200912  2009     12    1     7            2 2009-12-01 07:45:00   \n",
       "      3      200912  2009     12    1     7            2 2009-12-01 07:45:00   \n",
       "      4      200912  2009     12    1     7            2 2009-12-01 07:45:00   \n",
       "\n",
       "         spent  unit_price  cust_id         country  \n",
       "09-10 0   83.4        6.95  13085.0  United Kingdom  \n",
       "      1   81.0        6.75  13085.0  United Kingdom  \n",
       "      2   81.0        6.75  13085.0  United Kingdom  \n",
       "      3  100.8        2.10  13085.0  United Kingdom  \n",
       "      4   30.0        1.25  13085.0  United Kingdom  "
      ]
     },
     "execution_count": 31,
     "metadata": {},
     "output_type": "execute_result"
    }
   ],
   "source": [
    "retail.insert(loc = 11, column = 'spent', value = (retail['quantity'] * retail['unit_price']))\n",
    "retail.head()"
   ]
  },
  {
   "cell_type": "markdown",
   "metadata": {},
   "source": [
    "Rearrange the columns"
   ]
  },
  {
   "cell_type": "code",
   "execution_count": 32,
   "metadata": {
    "colab": {
     "base_uri": "https://localhost:8080/",
     "height": 204
    },
    "colab_type": "code",
    "id": "g-Cx19drPLMO",
    "outputId": "4c7d0491-4573-4269-ab68-d8c3a31bb1f6"
   },
   "outputs": [
    {
     "data": {
      "text/html": [
       "<div>\n",
       "<style scoped>\n",
       "    .dataframe tbody tr th:only-of-type {\n",
       "        vertical-align: middle;\n",
       "    }\n",
       "\n",
       "    .dataframe tbody tr th {\n",
       "        vertical-align: top;\n",
       "    }\n",
       "\n",
       "    .dataframe thead th {\n",
       "        text-align: right;\n",
       "    }\n",
       "</style>\n",
       "<table border=\"1\" class=\"dataframe\">\n",
       "  <thead>\n",
       "    <tr style=\"text-align: right;\">\n",
       "      <th></th>\n",
       "      <th></th>\n",
       "      <th>invoice</th>\n",
       "      <th>country</th>\n",
       "      <th>cust_id</th>\n",
       "      <th>stock_code</th>\n",
       "      <th>desc</th>\n",
       "      <th>quantity</th>\n",
       "      <th>unit_price</th>\n",
       "      <th>date</th>\n",
       "      <th>spent</th>\n",
       "      <th>year_month</th>\n",
       "      <th>year</th>\n",
       "      <th>month</th>\n",
       "      <th>day</th>\n",
       "      <th>day_of_week</th>\n",
       "      <th>hour</th>\n",
       "    </tr>\n",
       "  </thead>\n",
       "  <tbody>\n",
       "    <tr>\n",
       "      <td rowspan=\"5\" valign=\"top\">09-10</td>\n",
       "      <td>0</td>\n",
       "      <td>489434</td>\n",
       "      <td>United Kingdom</td>\n",
       "      <td>13085.0</td>\n",
       "      <td>85048</td>\n",
       "      <td>15cm christmas glass ball 20 lights</td>\n",
       "      <td>12</td>\n",
       "      <td>6.95</td>\n",
       "      <td>2009-12-01 07:45:00</td>\n",
       "      <td>83.4</td>\n",
       "      <td>200912</td>\n",
       "      <td>2009</td>\n",
       "      <td>12</td>\n",
       "      <td>1</td>\n",
       "      <td>2</td>\n",
       "      <td>7</td>\n",
       "    </tr>\n",
       "    <tr>\n",
       "      <td>1</td>\n",
       "      <td>489434</td>\n",
       "      <td>United Kingdom</td>\n",
       "      <td>13085.0</td>\n",
       "      <td>79323P</td>\n",
       "      <td>pink cherry lights</td>\n",
       "      <td>12</td>\n",
       "      <td>6.75</td>\n",
       "      <td>2009-12-01 07:45:00</td>\n",
       "      <td>81.0</td>\n",
       "      <td>200912</td>\n",
       "      <td>2009</td>\n",
       "      <td>12</td>\n",
       "      <td>1</td>\n",
       "      <td>2</td>\n",
       "      <td>7</td>\n",
       "    </tr>\n",
       "    <tr>\n",
       "      <td>2</td>\n",
       "      <td>489434</td>\n",
       "      <td>United Kingdom</td>\n",
       "      <td>13085.0</td>\n",
       "      <td>79323W</td>\n",
       "      <td>white cherry lights</td>\n",
       "      <td>12</td>\n",
       "      <td>6.75</td>\n",
       "      <td>2009-12-01 07:45:00</td>\n",
       "      <td>81.0</td>\n",
       "      <td>200912</td>\n",
       "      <td>2009</td>\n",
       "      <td>12</td>\n",
       "      <td>1</td>\n",
       "      <td>2</td>\n",
       "      <td>7</td>\n",
       "    </tr>\n",
       "    <tr>\n",
       "      <td>3</td>\n",
       "      <td>489434</td>\n",
       "      <td>United Kingdom</td>\n",
       "      <td>13085.0</td>\n",
       "      <td>22041</td>\n",
       "      <td>record frame 7\" single size</td>\n",
       "      <td>48</td>\n",
       "      <td>2.10</td>\n",
       "      <td>2009-12-01 07:45:00</td>\n",
       "      <td>100.8</td>\n",
       "      <td>200912</td>\n",
       "      <td>2009</td>\n",
       "      <td>12</td>\n",
       "      <td>1</td>\n",
       "      <td>2</td>\n",
       "      <td>7</td>\n",
       "    </tr>\n",
       "    <tr>\n",
       "      <td>4</td>\n",
       "      <td>489434</td>\n",
       "      <td>United Kingdom</td>\n",
       "      <td>13085.0</td>\n",
       "      <td>21232</td>\n",
       "      <td>strawberry ceramic trinket box</td>\n",
       "      <td>24</td>\n",
       "      <td>1.25</td>\n",
       "      <td>2009-12-01 07:45:00</td>\n",
       "      <td>30.0</td>\n",
       "      <td>200912</td>\n",
       "      <td>2009</td>\n",
       "      <td>12</td>\n",
       "      <td>1</td>\n",
       "      <td>2</td>\n",
       "      <td>7</td>\n",
       "    </tr>\n",
       "  </tbody>\n",
       "</table>\n",
       "</div>"
      ],
      "text/plain": [
       "        invoice         country  cust_id stock_code  \\\n",
       "09-10 0  489434  United Kingdom  13085.0      85048   \n",
       "      1  489434  United Kingdom  13085.0     79323P   \n",
       "      2  489434  United Kingdom  13085.0     79323W   \n",
       "      3  489434  United Kingdom  13085.0      22041   \n",
       "      4  489434  United Kingdom  13085.0      21232   \n",
       "\n",
       "                                        desc  quantity  unit_price  \\\n",
       "09-10 0  15cm christmas glass ball 20 lights        12        6.95   \n",
       "      1                   pink cherry lights        12        6.75   \n",
       "      2                  white cherry lights        12        6.75   \n",
       "      3         record frame 7\" single size         48        2.10   \n",
       "      4       strawberry ceramic trinket box        24        1.25   \n",
       "\n",
       "                       date  spent  year_month  year  month  day  day_of_week  \\\n",
       "09-10 0 2009-12-01 07:45:00   83.4      200912  2009     12    1            2   \n",
       "      1 2009-12-01 07:45:00   81.0      200912  2009     12    1            2   \n",
       "      2 2009-12-01 07:45:00   81.0      200912  2009     12    1            2   \n",
       "      3 2009-12-01 07:45:00  100.8      200912  2009     12    1            2   \n",
       "      4 2009-12-01 07:45:00   30.0      200912  2009     12    1            2   \n",
       "\n",
       "         hour  \n",
       "09-10 0     7  \n",
       "      1     7  \n",
       "      2     7  \n",
       "      3     7  \n",
       "      4     7  "
      ]
     },
     "execution_count": 32,
     "metadata": {},
     "output_type": "execute_result"
    }
   ],
   "source": [
    "retail = retail[['invoice', 'country', 'cust_id', 'stock_code', 'desc','quantity', 'unit_price', 'date', 'spent', \n",
    "                 'year_month', 'year', 'month', 'day', 'day_of_week', 'hour']]\n",
    "retail.head()"
   ]
  },
  {
   "cell_type": "markdown",
   "metadata": {},
   "source": [
    "# Finding the Answers in Our Data"
   ]
  },
  {
   "cell_type": "markdown",
   "metadata": {},
   "source": [
    "Determine which customers placed the most and fewest orders:"
   ]
  },
  {
   "cell_type": "code",
   "execution_count": 33,
   "metadata": {
    "colab": {
     "base_uri": "https://localhost:8080/",
     "height": 359
    },
    "colab_type": "code",
    "id": "nBFpPk0VPLMS",
    "outputId": "339baa77-0c52-4d56-ce78-f65bd9a70c7f"
   },
   "outputs": [
    {
     "data": {
      "text/html": [
       "<div>\n",
       "<style scoped>\n",
       "    .dataframe tbody tr th:only-of-type {\n",
       "        vertical-align: middle;\n",
       "    }\n",
       "\n",
       "    .dataframe tbody tr th {\n",
       "        vertical-align: top;\n",
       "    }\n",
       "\n",
       "    .dataframe thead th {\n",
       "        text-align: right;\n",
       "    }\n",
       "</style>\n",
       "<table border=\"1\" class=\"dataframe\">\n",
       "  <thead>\n",
       "    <tr style=\"text-align: right;\">\n",
       "      <th></th>\n",
       "      <th>cust_id</th>\n",
       "      <th>country</th>\n",
       "      <th>invoice</th>\n",
       "    </tr>\n",
       "  </thead>\n",
       "  <tbody>\n",
       "    <tr>\n",
       "      <td>0</td>\n",
       "      <td>12346.0</td>\n",
       "      <td>United Kingdom</td>\n",
       "      <td>33</td>\n",
       "    </tr>\n",
       "    <tr>\n",
       "      <td>1</td>\n",
       "      <td>12347.0</td>\n",
       "      <td>Iceland</td>\n",
       "      <td>253</td>\n",
       "    </tr>\n",
       "    <tr>\n",
       "      <td>2</td>\n",
       "      <td>12348.0</td>\n",
       "      <td>Finland</td>\n",
       "      <td>51</td>\n",
       "    </tr>\n",
       "    <tr>\n",
       "      <td>3</td>\n",
       "      <td>12349.0</td>\n",
       "      <td>Italy</td>\n",
       "      <td>175</td>\n",
       "    </tr>\n",
       "    <tr>\n",
       "      <td>4</td>\n",
       "      <td>12350.0</td>\n",
       "      <td>Norway</td>\n",
       "      <td>17</td>\n",
       "    </tr>\n",
       "    <tr>\n",
       "      <td>5</td>\n",
       "      <td>12351.0</td>\n",
       "      <td>Unspecified</td>\n",
       "      <td>21</td>\n",
       "    </tr>\n",
       "    <tr>\n",
       "      <td>6</td>\n",
       "      <td>12352.0</td>\n",
       "      <td>Norway</td>\n",
       "      <td>103</td>\n",
       "    </tr>\n",
       "    <tr>\n",
       "      <td>7</td>\n",
       "      <td>12353.0</td>\n",
       "      <td>Bahrain</td>\n",
       "      <td>24</td>\n",
       "    </tr>\n",
       "    <tr>\n",
       "      <td>8</td>\n",
       "      <td>12354.0</td>\n",
       "      <td>Spain</td>\n",
       "      <td>58</td>\n",
       "    </tr>\n",
       "    <tr>\n",
       "      <td>9</td>\n",
       "      <td>12355.0</td>\n",
       "      <td>Bahrain</td>\n",
       "      <td>35</td>\n",
       "    </tr>\n",
       "  </tbody>\n",
       "</table>\n",
       "</div>"
      ],
      "text/plain": [
       "   cust_id         country  invoice\n",
       "0  12346.0  United Kingdom       33\n",
       "1  12347.0         Iceland      253\n",
       "2  12348.0         Finland       51\n",
       "3  12349.0           Italy      175\n",
       "4  12350.0          Norway       17\n",
       "5  12351.0     Unspecified       21\n",
       "6  12352.0          Norway      103\n",
       "7  12353.0         Bahrain       24\n",
       "8  12354.0           Spain       58\n",
       "9  12355.0         Bahrain       35"
      ]
     },
     "execution_count": 33,
     "metadata": {},
     "output_type": "execute_result"
    }
   ],
   "source": [
    "#orders made by each customer\n",
    "\n",
    "ord_cust = retail.groupby(by = ['cust_id', 'country'], as_index = False)['invoice'].count()\n",
    "ord_cust.head(10)"
   ]
  },
  {
   "cell_type": "markdown",
   "metadata": {},
   "source": [
    "Plot the graph for visualizing the preceding information:"
   ]
  },
  {
   "cell_type": "code",
   "execution_count": 34,
   "metadata": {
    "colab": {
     "base_uri": "https://localhost:8080/",
     "height": 404
    },
    "colab_type": "code",
    "id": "p83R4UdqPLMU",
    "outputId": "c648e8ca-8b30-47a6-b588-8bd15c4d7e5c"
   },
   "outputs": [
    {
     "data": {
      "image/png": "[encoded data removed]",
      "text/plain": [
       "<Figure size 1080x432 with 1 Axes>"
      ]
     },
     "metadata": {
      "needs_background": "light"
     },
     "output_type": "display_data"
    }
   ],
   "source": [
    "plt.subplots(figsize = (15, 6))\n",
    "oc = plt.plot(ord_cust.cust_id, ord_cust.invoice)\n",
    "plt.xlabel('Customer ID')\n",
    "plt.ylabel('Number of Orders')\n",
    "plt.title('Number of Orders made by Customers')\n",
    "plt.show()"
   ]
  },
  {
   "cell_type": "markdown",
   "metadata": {},
   "source": [
    "Find details about the orders per customer:"
   ]
  },
  {
   "cell_type": "code",
   "execution_count": 35,
   "metadata": {
    "colab": {
     "base_uri": "https://localhost:8080/",
     "height": 297
    },
    "colab_type": "code",
    "id": "ejnu4quaPLMX",
    "outputId": "1b0b60a7-38a3-41b0-913d-fa4a1ba3411f"
   },
   "outputs": [
    {
     "data": {
      "text/html": [
       "<div>\n",
       "<style scoped>\n",
       "    .dataframe tbody tr th:only-of-type {\n",
       "        vertical-align: middle;\n",
       "    }\n",
       "\n",
       "    .dataframe tbody tr th {\n",
       "        vertical-align: top;\n",
       "    }\n",
       "\n",
       "    .dataframe thead th {\n",
       "        text-align: right;\n",
       "    }\n",
       "</style>\n",
       "<table border=\"1\" class=\"dataframe\">\n",
       "  <thead>\n",
       "    <tr style=\"text-align: right;\">\n",
       "      <th></th>\n",
       "      <th>cust_id</th>\n",
       "      <th>invoice</th>\n",
       "    </tr>\n",
       "  </thead>\n",
       "  <tbody>\n",
       "    <tr>\n",
       "      <td>count</td>\n",
       "      <td>5891.000000</td>\n",
       "      <td>5891.000000</td>\n",
       "    </tr>\n",
       "    <tr>\n",
       "      <td>mean</td>\n",
       "      <td>15309.025632</td>\n",
       "      <td>136.741979</td>\n",
       "    </tr>\n",
       "    <tr>\n",
       "      <td>std</td>\n",
       "      <td>1718.894226</td>\n",
       "      <td>353.448622</td>\n",
       "    </tr>\n",
       "    <tr>\n",
       "      <td>min</td>\n",
       "      <td>12346.000000</td>\n",
       "      <td>1.000000</td>\n",
       "    </tr>\n",
       "    <tr>\n",
       "      <td>25%</td>\n",
       "      <td>13823.500000</td>\n",
       "      <td>21.000000</td>\n",
       "    </tr>\n",
       "    <tr>\n",
       "      <td>50%</td>\n",
       "      <td>15308.000000</td>\n",
       "      <td>53.000000</td>\n",
       "    </tr>\n",
       "    <tr>\n",
       "      <td>75%</td>\n",
       "      <td>16794.500000</td>\n",
       "      <td>142.000000</td>\n",
       "    </tr>\n",
       "    <tr>\n",
       "      <td>max</td>\n",
       "      <td>18287.000000</td>\n",
       "      <td>12890.000000</td>\n",
       "    </tr>\n",
       "  </tbody>\n",
       "</table>\n",
       "</div>"
      ],
      "text/plain": [
       "            cust_id       invoice\n",
       "count   5891.000000   5891.000000\n",
       "mean   15309.025632    136.741979\n",
       "std     1718.894226    353.448622\n",
       "min    12346.000000      1.000000\n",
       "25%    13823.500000     21.000000\n",
       "50%    15308.000000     53.000000\n",
       "75%    16794.500000    142.000000\n",
       "max    18287.000000  12890.000000"
      ]
     },
     "execution_count": 35,
     "metadata": {},
     "output_type": "execute_result"
    }
   ],
   "source": [
    "ord_cust.describe()"
   ]
  },
  {
   "cell_type": "markdown",
   "metadata": {},
   "source": [
    "Determine which country has the customers that have spent the most money on orders:"
   ]
  },
  {
   "cell_type": "code",
   "execution_count": 36,
   "metadata": {
    "colab": {
     "base_uri": "https://localhost:8080/",
     "height": 204
    },
    "colab_type": "code",
    "id": "-MgKWcTTPLMa",
    "outputId": "bac68234-10cf-4030-b097-7edd03d061d4"
   },
   "outputs": [
    {
     "data": {
      "text/html": [
       "<div>\n",
       "<style scoped>\n",
       "    .dataframe tbody tr th:only-of-type {\n",
       "        vertical-align: middle;\n",
       "    }\n",
       "\n",
       "    .dataframe tbody tr th {\n",
       "        vertical-align: top;\n",
       "    }\n",
       "\n",
       "    .dataframe thead th {\n",
       "        text-align: right;\n",
       "    }\n",
       "</style>\n",
       "<table border=\"1\" class=\"dataframe\">\n",
       "  <thead>\n",
       "    <tr style=\"text-align: right;\">\n",
       "      <th></th>\n",
       "      <th>cust_id</th>\n",
       "      <th>country</th>\n",
       "      <th>invoice</th>\n",
       "    </tr>\n",
       "  </thead>\n",
       "  <tbody>\n",
       "    <tr>\n",
       "      <td>5446</td>\n",
       "      <td>17841.0</td>\n",
       "      <td>United Kingdom</td>\n",
       "      <td>12890</td>\n",
       "    </tr>\n",
       "    <tr>\n",
       "      <td>2551</td>\n",
       "      <td>14911.0</td>\n",
       "      <td>EIRE</td>\n",
       "      <td>11245</td>\n",
       "    </tr>\n",
       "    <tr>\n",
       "      <td>413</td>\n",
       "      <td>12748.0</td>\n",
       "      <td>United Kingdom</td>\n",
       "      <td>7228</td>\n",
       "    </tr>\n",
       "    <tr>\n",
       "      <td>2250</td>\n",
       "      <td>14606.0</td>\n",
       "      <td>United Kingdom</td>\n",
       "      <td>6566</td>\n",
       "    </tr>\n",
       "    <tr>\n",
       "      <td>1744</td>\n",
       "      <td>14096.0</td>\n",
       "      <td>United Kingdom</td>\n",
       "      <td>5111</td>\n",
       "    </tr>\n",
       "  </tbody>\n",
       "</table>\n",
       "</div>"
      ],
      "text/plain": [
       "      cust_id         country  invoice\n",
       "5446  17841.0  United Kingdom    12890\n",
       "2551  14911.0            EIRE    11245\n",
       "413   12748.0  United Kingdom     7228\n",
       "2250  14606.0  United Kingdom     6566\n",
       "1744  14096.0  United Kingdom     5111"
      ]
     },
     "execution_count": 36,
     "metadata": {},
     "output_type": "execute_result"
    }
   ],
   "source": [
    "# 5 customers who ordered the most number of times\n",
    "ord_cust.sort_values(by = 'invoice', ascending = False).head()"
   ]
  },
  {
   "cell_type": "markdown",
   "metadata": {},
   "source": [
    "Find the amount spent by customers:"
   ]
  },
  {
   "cell_type": "code",
   "execution_count": 37,
   "metadata": {
    "colab": {
     "base_uri": "https://localhost:8080/",
     "height": 204
    },
    "colab_type": "code",
    "id": "THnkOvxxPLMf",
    "outputId": "000cf8ba-d225-4dfd-d2b9-a0736daae6de"
   },
   "outputs": [
    {
     "data": {
      "text/html": [
       "<div>\n",
       "<style scoped>\n",
       "    .dataframe tbody tr th:only-of-type {\n",
       "        vertical-align: middle;\n",
       "    }\n",
       "\n",
       "    .dataframe tbody tr th {\n",
       "        vertical-align: top;\n",
       "    }\n",
       "\n",
       "    .dataframe thead th {\n",
       "        text-align: right;\n",
       "    }\n",
       "</style>\n",
       "<table border=\"1\" class=\"dataframe\">\n",
       "  <thead>\n",
       "    <tr style=\"text-align: right;\">\n",
       "      <th></th>\n",
       "      <th>cust_id</th>\n",
       "      <th>country</th>\n",
       "      <th>spent</th>\n",
       "    </tr>\n",
       "  </thead>\n",
       "  <tbody>\n",
       "    <tr>\n",
       "      <td>0</td>\n",
       "      <td>12346.0</td>\n",
       "      <td>United Kingdom</td>\n",
       "      <td>372.86</td>\n",
       "    </tr>\n",
       "    <tr>\n",
       "      <td>1</td>\n",
       "      <td>12347.0</td>\n",
       "      <td>Iceland</td>\n",
       "      <td>5633.32</td>\n",
       "    </tr>\n",
       "    <tr>\n",
       "      <td>2</td>\n",
       "      <td>12348.0</td>\n",
       "      <td>Finland</td>\n",
       "      <td>2019.40</td>\n",
       "    </tr>\n",
       "    <tr>\n",
       "      <td>3</td>\n",
       "      <td>12349.0</td>\n",
       "      <td>Italy</td>\n",
       "      <td>4428.69</td>\n",
       "    </tr>\n",
       "    <tr>\n",
       "      <td>4</td>\n",
       "      <td>12350.0</td>\n",
       "      <td>Norway</td>\n",
       "      <td>334.40</td>\n",
       "    </tr>\n",
       "  </tbody>\n",
       "</table>\n",
       "</div>"
      ],
      "text/plain": [
       "   cust_id         country    spent\n",
       "0  12346.0  United Kingdom   372.86\n",
       "1  12347.0         Iceland  5633.32\n",
       "2  12348.0         Finland  2019.40\n",
       "3  12349.0           Italy  4428.69\n",
       "4  12350.0          Norway   334.40"
      ]
     },
     "execution_count": 37,
     "metadata": {},
     "output_type": "execute_result"
    }
   ],
   "source": [
    "# money spent \n",
    "spent_cust = retail.groupby(by = ['cust_id', 'country'], as_index = False)['spent'].sum()\n",
    "spent_cust.head()"
   ]
  },
  {
   "cell_type": "markdown",
   "metadata": {},
   "source": [
    "Plot a graph for the amount of money spent by the customers:"
   ]
  },
  {
   "cell_type": "code",
   "execution_count": 38,
   "metadata": {
    "colab": {
     "base_uri": "https://localhost:8080/",
     "height": 404
    },
    "colab_type": "code",
    "id": "CraVU8-4PLMj",
    "outputId": "b9cc74de-9ba0-4dd4-ef94-00ccfb071524"
   },
   "outputs": [
    {
     "data": {
      "image/png": "[encoded data removed]",
      "text/plain": [
       "<Figure size 1080x432 with 1 Axes>"
      ]
     },
     "metadata": {
      "needs_background": "light"
     },
     "output_type": "display_data"
    }
   ],
   "source": [
    "plt.subplots(figsize = (15, 6))\n",
    "sc = plt.plot(spent_cust.cust_id, spent_cust.spent)\n",
    "plt.xlabel('Customer ID')\n",
    "plt.ylabel('Total Amount Spent')\n",
    "plt.title('Amount Spent by Customers')\n",
    "plt.show()"
   ]
  },
  {
   "cell_type": "markdown",
   "metadata": {},
   "source": [
    "Arrange the values in ascending order to get a clear picture:"
   ]
  },
  {
   "cell_type": "code",
   "execution_count": 39,
   "metadata": {
    "colab": {
     "base_uri": "https://localhost:8080/",
     "height": 204
    },
    "colab_type": "code",
    "id": "n3tSj1xvPLMl",
    "outputId": "ebbae5c1-0186-4a97-b742-ee6d94f182b4"
   },
   "outputs": [
    {
     "data": {
      "text/html": [
       "<div>\n",
       "<style scoped>\n",
       "    .dataframe tbody tr th:only-of-type {\n",
       "        vertical-align: middle;\n",
       "    }\n",
       "\n",
       "    .dataframe tbody tr th {\n",
       "        vertical-align: top;\n",
       "    }\n",
       "\n",
       "    .dataframe thead th {\n",
       "        text-align: right;\n",
       "    }\n",
       "</style>\n",
       "<table border=\"1\" class=\"dataframe\">\n",
       "  <thead>\n",
       "    <tr style=\"text-align: right;\">\n",
       "      <th></th>\n",
       "      <th>cust_id</th>\n",
       "      <th>country</th>\n",
       "      <th>spent</th>\n",
       "    </tr>\n",
       "  </thead>\n",
       "  <tbody>\n",
       "    <tr>\n",
       "      <td>5705</td>\n",
       "      <td>18102.0</td>\n",
       "      <td>United Kingdom</td>\n",
       "      <td>608821.65</td>\n",
       "    </tr>\n",
       "    <tr>\n",
       "      <td>2290</td>\n",
       "      <td>14646.0</td>\n",
       "      <td>Netherlands</td>\n",
       "      <td>528602.52</td>\n",
       "    </tr>\n",
       "    <tr>\n",
       "      <td>1802</td>\n",
       "      <td>14156.0</td>\n",
       "      <td>EIRE</td>\n",
       "      <td>313946.37</td>\n",
       "    </tr>\n",
       "    <tr>\n",
       "      <td>2551</td>\n",
       "      <td>14911.0</td>\n",
       "      <td>EIRE</td>\n",
       "      <td>295972.63</td>\n",
       "    </tr>\n",
       "    <tr>\n",
       "      <td>5063</td>\n",
       "      <td>17450.0</td>\n",
       "      <td>United Kingdom</td>\n",
       "      <td>246973.09</td>\n",
       "    </tr>\n",
       "  </tbody>\n",
       "</table>\n",
       "</div>"
      ],
      "text/plain": [
       "      cust_id         country      spent\n",
       "5705  18102.0  United Kingdom  608821.65\n",
       "2290  14646.0     Netherlands  528602.52\n",
       "1802  14156.0            EIRE  313946.37\n",
       "2551  14911.0            EIRE  295972.63\n",
       "5063  17450.0  United Kingdom  246973.09"
      ]
     },
     "execution_count": 39,
     "metadata": {},
     "output_type": "execute_result"
    }
   ],
   "source": [
    "spent_cust.sort_values(by = 'spent', ascending = False).head()"
   ]
  },
  {
   "cell_type": "markdown",
   "metadata": {},
   "source": [
    "Get more details about the new DataFrame:"
   ]
  },
  {
   "cell_type": "code",
   "execution_count": 40,
   "metadata": {
    "colab": {
     "base_uri": "https://localhost:8080/",
     "height": 204
    },
    "colab_type": "code",
    "id": "HZFR610xPLMn",
    "outputId": "6a5e9306-19bd-44cc-c613-6893fcd718a9"
   },
   "outputs": [
    {
     "data": {
      "text/html": [
       "<div>\n",
       "<style scoped>\n",
       "    .dataframe tbody tr th:only-of-type {\n",
       "        vertical-align: middle;\n",
       "    }\n",
       "\n",
       "    .dataframe tbody tr th {\n",
       "        vertical-align: top;\n",
       "    }\n",
       "\n",
       "    .dataframe thead th {\n",
       "        text-align: right;\n",
       "    }\n",
       "</style>\n",
       "<table border=\"1\" class=\"dataframe\">\n",
       "  <thead>\n",
       "    <tr style=\"text-align: right;\">\n",
       "      <th></th>\n",
       "      <th></th>\n",
       "      <th>invoice</th>\n",
       "      <th>country</th>\n",
       "      <th>cust_id</th>\n",
       "      <th>stock_code</th>\n",
       "      <th>desc</th>\n",
       "      <th>quantity</th>\n",
       "      <th>unit_price</th>\n",
       "      <th>date</th>\n",
       "      <th>spent</th>\n",
       "      <th>year_month</th>\n",
       "      <th>year</th>\n",
       "      <th>month</th>\n",
       "      <th>day</th>\n",
       "      <th>day_of_week</th>\n",
       "      <th>hour</th>\n",
       "    </tr>\n",
       "  </thead>\n",
       "  <tbody>\n",
       "    <tr>\n",
       "      <td rowspan=\"5\" valign=\"top\">10-11</td>\n",
       "      <td>541905</td>\n",
       "      <td>581587</td>\n",
       "      <td>France</td>\n",
       "      <td>12680.0</td>\n",
       "      <td>22899</td>\n",
       "      <td>children's apron dolly girl</td>\n",
       "      <td>6</td>\n",
       "      <td>2.10</td>\n",
       "      <td>2011-12-09 12:50:00</td>\n",
       "      <td>12.60</td>\n",
       "      <td>201112</td>\n",
       "      <td>2011</td>\n",
       "      <td>12</td>\n",
       "      <td>9</td>\n",
       "      <td>5</td>\n",
       "      <td>12</td>\n",
       "    </tr>\n",
       "    <tr>\n",
       "      <td>541906</td>\n",
       "      <td>581587</td>\n",
       "      <td>France</td>\n",
       "      <td>12680.0</td>\n",
       "      <td>23254</td>\n",
       "      <td>childrens cutlery dolly girl</td>\n",
       "      <td>4</td>\n",
       "      <td>4.15</td>\n",
       "      <td>2011-12-09 12:50:00</td>\n",
       "      <td>16.60</td>\n",
       "      <td>201112</td>\n",
       "      <td>2011</td>\n",
       "      <td>12</td>\n",
       "      <td>9</td>\n",
       "      <td>5</td>\n",
       "      <td>12</td>\n",
       "    </tr>\n",
       "    <tr>\n",
       "      <td>541907</td>\n",
       "      <td>581587</td>\n",
       "      <td>France</td>\n",
       "      <td>12680.0</td>\n",
       "      <td>23255</td>\n",
       "      <td>childrens cutlery circus parade</td>\n",
       "      <td>4</td>\n",
       "      <td>4.15</td>\n",
       "      <td>2011-12-09 12:50:00</td>\n",
       "      <td>16.60</td>\n",
       "      <td>201112</td>\n",
       "      <td>2011</td>\n",
       "      <td>12</td>\n",
       "      <td>9</td>\n",
       "      <td>5</td>\n",
       "      <td>12</td>\n",
       "    </tr>\n",
       "    <tr>\n",
       "      <td>541908</td>\n",
       "      <td>581587</td>\n",
       "      <td>France</td>\n",
       "      <td>12680.0</td>\n",
       "      <td>22138</td>\n",
       "      <td>baking set 9 piece retrospot</td>\n",
       "      <td>3</td>\n",
       "      <td>4.95</td>\n",
       "      <td>2011-12-09 12:50:00</td>\n",
       "      <td>14.85</td>\n",
       "      <td>201112</td>\n",
       "      <td>2011</td>\n",
       "      <td>12</td>\n",
       "      <td>9</td>\n",
       "      <td>5</td>\n",
       "      <td>12</td>\n",
       "    </tr>\n",
       "    <tr>\n",
       "      <td>541909</td>\n",
       "      <td>581587</td>\n",
       "      <td>France</td>\n",
       "      <td>12680.0</td>\n",
       "      <td>POST</td>\n",
       "      <td>postage</td>\n",
       "      <td>1</td>\n",
       "      <td>18.00</td>\n",
       "      <td>2011-12-09 12:50:00</td>\n",
       "      <td>18.00</td>\n",
       "      <td>201112</td>\n",
       "      <td>2011</td>\n",
       "      <td>12</td>\n",
       "      <td>9</td>\n",
       "      <td>5</td>\n",
       "      <td>12</td>\n",
       "    </tr>\n",
       "  </tbody>\n",
       "</table>\n",
       "</div>"
      ],
      "text/plain": [
       "             invoice country  cust_id stock_code  \\\n",
       "10-11 541905  581587  France  12680.0      22899   \n",
       "      541906  581587  France  12680.0      23254   \n",
       "      541907  581587  France  12680.0      23255   \n",
       "      541908  581587  France  12680.0      22138   \n",
       "      541909  581587  France  12680.0       POST   \n",
       "\n",
       "                                         desc  quantity  unit_price  \\\n",
       "10-11 541905     children's apron dolly girl          6        2.10   \n",
       "      541906    childrens cutlery dolly girl          4        4.15   \n",
       "      541907  childrens cutlery circus parade         4        4.15   \n",
       "      541908    baking set 9 piece retrospot          3        4.95   \n",
       "      541909                          postage         1       18.00   \n",
       "\n",
       "                            date  spent  year_month  year  month  day  \\\n",
       "10-11 541905 2011-12-09 12:50:00  12.60      201112  2011     12    9   \n",
       "      541906 2011-12-09 12:50:00  16.60      201112  2011     12    9   \n",
       "      541907 2011-12-09 12:50:00  16.60      201112  2011     12    9   \n",
       "      541908 2011-12-09 12:50:00  14.85      201112  2011     12    9   \n",
       "      541909 2011-12-09 12:50:00  18.00      201112  2011     12    9   \n",
       "\n",
       "              day_of_week  hour  \n",
       "10-11 541905            5    12  \n",
       "      541906            5    12  \n",
       "      541907            5    12  \n",
       "      541908            5    12  \n",
       "      541909            5    12  "
      ]
     },
     "execution_count": 40,
     "metadata": {},
     "output_type": "execute_result"
    }
   ],
   "source": [
    "retail.tail()"
   ]
  },
  {
   "cell_type": "code",
   "execution_count": 41,
   "metadata": {
    "colab": {
     "base_uri": "https://localhost:8080/",
     "height": 204
    },
    "colab_type": "code",
    "id": "3yA6cZpDPLMr",
    "outputId": "abd67e9a-8233-4788-a532-4e43fd61c4e9"
   },
   "outputs": [
    {
     "data": {
      "text/html": [
       "<div>\n",
       "<style scoped>\n",
       "    .dataframe tbody tr th:only-of-type {\n",
       "        vertical-align: middle;\n",
       "    }\n",
       "\n",
       "    .dataframe tbody tr th {\n",
       "        vertical-align: top;\n",
       "    }\n",
       "\n",
       "    .dataframe thead th {\n",
       "        text-align: right;\n",
       "    }\n",
       "</style>\n",
       "<table border=\"1\" class=\"dataframe\">\n",
       "  <thead>\n",
       "    <tr style=\"text-align: right;\">\n",
       "      <th></th>\n",
       "      <th></th>\n",
       "      <th>invoice</th>\n",
       "      <th>country</th>\n",
       "      <th>cust_id</th>\n",
       "      <th>stock_code</th>\n",
       "      <th>desc</th>\n",
       "      <th>quantity</th>\n",
       "      <th>unit_price</th>\n",
       "      <th>date</th>\n",
       "      <th>spent</th>\n",
       "      <th>year_month</th>\n",
       "      <th>year</th>\n",
       "      <th>month</th>\n",
       "      <th>day</th>\n",
       "      <th>day_of_week</th>\n",
       "      <th>hour</th>\n",
       "    </tr>\n",
       "  </thead>\n",
       "  <tbody>\n",
       "    <tr>\n",
       "      <td rowspan=\"5\" valign=\"top\">09-10</td>\n",
       "      <td>0</td>\n",
       "      <td>489434</td>\n",
       "      <td>United Kingdom</td>\n",
       "      <td>13085.0</td>\n",
       "      <td>85048</td>\n",
       "      <td>15cm christmas glass ball 20 lights</td>\n",
       "      <td>12</td>\n",
       "      <td>6.95</td>\n",
       "      <td>2009-12-01 07:45:00</td>\n",
       "      <td>83.4</td>\n",
       "      <td>200912</td>\n",
       "      <td>2009</td>\n",
       "      <td>12</td>\n",
       "      <td>1</td>\n",
       "      <td>2</td>\n",
       "      <td>7</td>\n",
       "    </tr>\n",
       "    <tr>\n",
       "      <td>1</td>\n",
       "      <td>489434</td>\n",
       "      <td>United Kingdom</td>\n",
       "      <td>13085.0</td>\n",
       "      <td>79323P</td>\n",
       "      <td>pink cherry lights</td>\n",
       "      <td>12</td>\n",
       "      <td>6.75</td>\n",
       "      <td>2009-12-01 07:45:00</td>\n",
       "      <td>81.0</td>\n",
       "      <td>200912</td>\n",
       "      <td>2009</td>\n",
       "      <td>12</td>\n",
       "      <td>1</td>\n",
       "      <td>2</td>\n",
       "      <td>7</td>\n",
       "    </tr>\n",
       "    <tr>\n",
       "      <td>2</td>\n",
       "      <td>489434</td>\n",
       "      <td>United Kingdom</td>\n",
       "      <td>13085.0</td>\n",
       "      <td>79323W</td>\n",
       "      <td>white cherry lights</td>\n",
       "      <td>12</td>\n",
       "      <td>6.75</td>\n",
       "      <td>2009-12-01 07:45:00</td>\n",
       "      <td>81.0</td>\n",
       "      <td>200912</td>\n",
       "      <td>2009</td>\n",
       "      <td>12</td>\n",
       "      <td>1</td>\n",
       "      <td>2</td>\n",
       "      <td>7</td>\n",
       "    </tr>\n",
       "    <tr>\n",
       "      <td>3</td>\n",
       "      <td>489434</td>\n",
       "      <td>United Kingdom</td>\n",
       "      <td>13085.0</td>\n",
       "      <td>22041</td>\n",
       "      <td>record frame 7\" single size</td>\n",
       "      <td>48</td>\n",
       "      <td>2.10</td>\n",
       "      <td>2009-12-01 07:45:00</td>\n",
       "      <td>100.8</td>\n",
       "      <td>200912</td>\n",
       "      <td>2009</td>\n",
       "      <td>12</td>\n",
       "      <td>1</td>\n",
       "      <td>2</td>\n",
       "      <td>7</td>\n",
       "    </tr>\n",
       "    <tr>\n",
       "      <td>4</td>\n",
       "      <td>489434</td>\n",
       "      <td>United Kingdom</td>\n",
       "      <td>13085.0</td>\n",
       "      <td>21232</td>\n",
       "      <td>strawberry ceramic trinket box</td>\n",
       "      <td>24</td>\n",
       "      <td>1.25</td>\n",
       "      <td>2009-12-01 07:45:00</td>\n",
       "      <td>30.0</td>\n",
       "      <td>200912</td>\n",
       "      <td>2009</td>\n",
       "      <td>12</td>\n",
       "      <td>1</td>\n",
       "      <td>2</td>\n",
       "      <td>7</td>\n",
       "    </tr>\n",
       "  </tbody>\n",
       "</table>\n",
       "</div>"
      ],
      "text/plain": [
       "        invoice         country  cust_id stock_code  \\\n",
       "09-10 0  489434  United Kingdom  13085.0      85048   \n",
       "      1  489434  United Kingdom  13085.0     79323P   \n",
       "      2  489434  United Kingdom  13085.0     79323W   \n",
       "      3  489434  United Kingdom  13085.0      22041   \n",
       "      4  489434  United Kingdom  13085.0      21232   \n",
       "\n",
       "                                        desc  quantity  unit_price  \\\n",
       "09-10 0  15cm christmas glass ball 20 lights        12        6.95   \n",
       "      1                   pink cherry lights        12        6.75   \n",
       "      2                  white cherry lights        12        6.75   \n",
       "      3         record frame 7\" single size         48        2.10   \n",
       "      4       strawberry ceramic trinket box        24        1.25   \n",
       "\n",
       "                       date  spent  year_month  year  month  day  day_of_week  \\\n",
       "09-10 0 2009-12-01 07:45:00   83.4      200912  2009     12    1            2   \n",
       "      1 2009-12-01 07:45:00   81.0      200912  2009     12    1            2   \n",
       "      2 2009-12-01 07:45:00   81.0      200912  2009     12    1            2   \n",
       "      3 2009-12-01 07:45:00  100.8      200912  2009     12    1            2   \n",
       "      4 2009-12-01 07:45:00   30.0      200912  2009     12    1            2   \n",
       "\n",
       "         hour  \n",
       "09-10 0     7  \n",
       "      1     7  \n",
       "      2     7  \n",
       "      3     7  \n",
       "      4     7  "
      ]
     },
     "execution_count": 41,
     "metadata": {},
     "output_type": "execute_result"
    }
   ],
   "source": [
    "retail.head()"
   ]
  },
  {
   "cell_type": "markdown",
   "metadata": {},
   "source": [
    "Determine which month had the most orders:"
   ]
  },
  {
   "cell_type": "code",
   "execution_count": 42,
   "metadata": {
    "colab": {
     "base_uri": "https://localhost:8080/",
     "height": 255
    },
    "colab_type": "code",
    "id": "AI-JS72mPLMu",
    "outputId": "4112e0a7-52f6-4151-e3ac-f98d34a5d8f6"
   },
   "outputs": [
    {
     "data": {
      "text/plain": [
       "[200912]    1512\n",
       "[201001]    1011\n",
       "[201002]    1104\n",
       "[201003]    1524\n",
       "[201004]    1329\n",
       "[201005]    1377\n",
       "[201006]    1497\n",
       "[201007]    1381\n",
       "[201008]    1293\n",
       "[201009]    1689\n",
       "[201010]    2133\n",
       "[201011]    2587\n",
       "[201012]    1400\n",
       "[201101]     986\n",
       "[201102]     997\n",
       "[201103]    1321\n",
       "[201104]    1149\n",
       "[201105]    1555\n",
       "[201106]    1393\n",
       "[201107]    1331\n",
       "[201108]    1280\n",
       "[201109]    1755\n",
       "[201110]    1929\n",
       "[201111]    2657\n",
       "[201112]     777\n",
       "Name: year_month, dtype: int64"
      ]
     },
     "execution_count": 42,
     "metadata": {},
     "output_type": "execute_result"
    }
   ],
   "source": [
    "#orders per month \n",
    "\n",
    "ord_month = retail.groupby(['invoice'])['year_month'].unique().value_counts().sort_index()\n",
    "ord_month"
   ]
  },
  {
   "cell_type": "markdown",
   "metadata": {},
   "source": [
    "Plot a graph to find which month had the most orders:"
   ]
  },
  {
   "cell_type": "code",
   "execution_count": 43,
   "metadata": {
    "colab": {
     "base_uri": "https://localhost:8080/",
     "height": 472
    },
    "colab_type": "code",
    "id": "nA0MSA8iPLMy",
    "outputId": "b7285989-1304-4997-b610-1eded5932750"
   },
   "outputs": [
    {
     "data": {
      "image/png": "[encoded data removed]",
      "text/plain": [
       "<Figure size 1080x432 with 1 Axes>"
      ]
     },
     "metadata": {
      "needs_background": "light"
     },
     "output_type": "display_data"
    }
   ],
   "source": [
    "om = ord_month.plot(kind='bar', figsize = (15, 6))\n",
    "om.set_xlabel('Month')\n",
    "om.set_ylabel('Number of Orders')\n",
    "om.set_title('Orders per Month')\n",
    "om.set_xticklabels(('Dec 09', 'Jan 10', 'Feb 10', 'Mar 10', 'Apr 10', 'May 10', \n",
    "                           'Jun 10', 'Jul 10', 'Aug 10', 'Sep 10', 'Oct 10', 'Nov 10', 'Dec 10',\n",
    "                   'Jan 11', 'Feb 11', 'Mar 11', 'Apr 11', 'May 11', \n",
    "                           'Jun 11', 'Jul 11', 'Aug 11', 'Sep 11', 'Oct 11', 'Nov 11', 'Dec 11'), rotation = 'horizontal')\n",
    "plt.show()                          "
   ]
  },
  {
   "cell_type": "markdown",
   "metadata": {},
   "source": [
    "Determine which day of the month had the most orders:"
   ]
  },
  {
   "cell_type": "code",
   "execution_count": 44,
   "metadata": {
    "colab": {
     "base_uri": "https://localhost:8080/",
     "height": 561
    },
    "colab_type": "code",
    "id": "EEmb7kSPPLM1",
    "outputId": "8e1fe2ef-4a00-499d-8a77-1913323c39de"
   },
   "outputs": [
    {
     "data": {
      "text/plain": [
       "[1]     1296\n",
       "[2]     1172\n",
       "[3]     1073\n",
       "[4]     1224\n",
       "[5]     1297\n",
       "[6]     1279\n",
       "[7]     1514\n",
       "[8]     1487\n",
       "[9]     1250\n",
       "[10]    1235\n",
       "[11]    1284\n",
       "[12]    1083\n",
       "[13]    1108\n",
       "[14]    1304\n",
       "[15]    1285\n",
       "[16]    1267\n",
       "[17]    1294\n",
       "[18]    1258\n",
       "[19]    1122\n",
       "[20]    1167\n",
       "[21]    1243\n",
       "[22]    1200\n",
       "[23]    1153\n",
       "[24]    1185\n",
       "[25]    1228\n",
       "[26]    1118\n",
       "[27]    1063\n",
       "[28]    1295\n",
       "[29]    1019\n",
       "[30]     900\n",
       "[31]     564\n",
       "Name: day, dtype: int64"
      ]
     },
     "execution_count": 44,
     "metadata": {},
     "output_type": "execute_result"
    }
   ],
   "source": [
    "# most popular time of the month to order\n",
    "\n",
    "ord_day = retail.groupby('invoice')['day'].unique().value_counts().sort_index()\n",
    "ord_day"
   ]
  },
  {
   "cell_type": "markdown",
   "metadata": {},
   "source": [
    "Plot the graph to find the day of the month with the most orders:"
   ]
  },
  {
   "cell_type": "code",
   "execution_count": 45,
   "metadata": {
    "colab": {
     "base_uri": "https://localhost:8080/",
     "height": 472
    },
    "colab_type": "code",
    "id": "dqBsB5VJPLM4",
    "outputId": "c491c81c-e370-49e4-98ae-5c701e93187f"
   },
   "outputs": [
    {
     "data": {
      "image/png": "[encoded data removed]",
      "text/plain": [
       "<Figure size 1080x432 with 1 Axes>"
      ]
     },
     "metadata": {
      "needs_background": "light"
     },
     "output_type": "display_data"
    }
   ],
   "source": [
    "od = ord_day.plot(kind='bar', figsize = (15, 6))\n",
    "od.set_xlabel('Day of the Month')\n",
    "od.set_ylabel('Number of Orders')\n",
    "od.set_title('Orders per Day of the Month')\n",
    "od.set_xticklabels(labels = [i for i in range (1, 32)], rotation = 'horizontal')\n",
    "plt.show()                          "
   ]
  },
  {
   "cell_type": "markdown",
   "metadata": {},
   "source": [
    "Determine which day of the week had the most orders:"
   ]
  },
  {
   "cell_type": "code",
   "execution_count": 46,
   "metadata": {
    "colab": {
     "base_uri": "https://localhost:8080/",
     "height": 136
    },
    "colab_type": "code",
    "id": "rZwg6Zv1PLM9",
    "outputId": "67026c85-4c29-4cf7-8aa1-c9cd0f22966d"
   },
   "outputs": [
    {
     "data": {
      "text/plain": [
       "[1]    5755\n",
       "[2]    6626\n",
       "[3]    6649\n",
       "[4]    7773\n",
       "[5]    5386\n",
       "[6]      30\n",
       "[7]    4748\n",
       "Name: day_of_week, dtype: int64"
      ]
     },
     "execution_count": 46,
     "metadata": {},
     "output_type": "execute_result"
    }
   ],
   "source": [
    "# orders per day of the week\n",
    "\n",
    "ord_dayofweek = retail.groupby('invoice')['day_of_week'].unique().value_counts().sort_index()\n",
    "ord_dayofweek"
   ]
  },
  {
   "cell_type": "markdown",
   "metadata": {},
   "source": [
    "Plot the graph to find the day of the week with the most orders:"
   ]
  },
  {
   "cell_type": "code",
   "execution_count": 47,
   "metadata": {
    "colab": {
     "base_uri": "https://localhost:8080/",
     "height": 472
    },
    "colab_type": "code",
    "id": "y1b_QQJXPLNA",
    "outputId": "d1419268-4125-49e3-f33f-ca6cdf0fc6bb"
   },
   "outputs": [
    {
     "data": {
      "image/png": "[encoded data removed]",
      "text/plain": [
       "<Figure size 1080x432 with 1 Axes>"
      ]
     },
     "metadata": {
      "needs_background": "light"
     },
     "output_type": "display_data"
    }
   ],
   "source": [
    "odw = ord_dayofweek.plot(kind='bar', figsize = (15, 6))\n",
    "odw.set_xlabel('Day of the Week')\n",
    "odw.set_ylabel('Number of Orders')\n",
    "odw.set_title('Orders per Day of the Week')\n",
    "odw.set_xticklabels(labels = ['Mon', 'Tues', 'Wed', 'Thurs', 'Fri', 'Sat', 'Sun'], rotation = 'horizontal')\n",
    "plt.show()                          "
   ]
  },
  {
   "cell_type": "markdown",
   "metadata": {},
   "source": [
    "Determine which customers spent the most money on one item:"
   ]
  },
  {
   "cell_type": "code",
   "execution_count": 48,
   "metadata": {
    "colab": {
     "base_uri": "https://localhost:8080/",
     "height": 204
    },
    "colab_type": "code",
    "id": "e2cZkJhEPLNH",
    "outputId": "73ded83d-cb17-4e28-a167-bd5ceeef4ed4"
   },
   "outputs": [
    {
     "data": {
      "text/html": [
       "<div>\n",
       "<style scoped>\n",
       "    .dataframe tbody tr th:only-of-type {\n",
       "        vertical-align: middle;\n",
       "    }\n",
       "\n",
       "    .dataframe tbody tr th {\n",
       "        vertical-align: top;\n",
       "    }\n",
       "\n",
       "    .dataframe thead th {\n",
       "        text-align: right;\n",
       "    }\n",
       "</style>\n",
       "<table border=\"1\" class=\"dataframe\">\n",
       "  <thead>\n",
       "    <tr style=\"text-align: right;\">\n",
       "      <th></th>\n",
       "      <th>desc</th>\n",
       "      <th>quantity</th>\n",
       "    </tr>\n",
       "  </thead>\n",
       "  <tbody>\n",
       "    <tr>\n",
       "      <td>0</td>\n",
       "      <td>doormat union jack guns and roses</td>\n",
       "      <td>169</td>\n",
       "    </tr>\n",
       "    <tr>\n",
       "      <td>1</td>\n",
       "      <td>3 stripey mice feltcraft</td>\n",
       "      <td>663</td>\n",
       "    </tr>\n",
       "    <tr>\n",
       "      <td>2</td>\n",
       "      <td>4 purple flock dinner candles</td>\n",
       "      <td>340</td>\n",
       "    </tr>\n",
       "    <tr>\n",
       "      <td>3</td>\n",
       "      <td>50's christmas gift bag large</td>\n",
       "      <td>1885</td>\n",
       "    </tr>\n",
       "    <tr>\n",
       "      <td>4</td>\n",
       "      <td>animal stickers</td>\n",
       "      <td>385</td>\n",
       "    </tr>\n",
       "  </tbody>\n",
       "</table>\n",
       "</div>"
      ],
      "text/plain": [
       "                                  desc  quantity\n",
       "0    doormat union jack guns and roses       169\n",
       "1             3 stripey mice feltcraft       663\n",
       "2        4 purple flock dinner candles       340\n",
       "3        50's christmas gift bag large      1885\n",
       "4                      animal stickers       385"
      ]
     },
     "execution_count": 48,
     "metadata": {},
     "output_type": "execute_result"
    }
   ],
   "source": [
    "q_item = retail.groupby(by = ['desc'], as_index = False)['quantity'].sum()\n",
    "q_item.head()"
   ]
  },
  {
   "cell_type": "markdown",
   "metadata": {},
   "source": [
    "Sort the values in the quantity column in ascending order:"
   ]
  },
  {
   "cell_type": "code",
   "execution_count": 49,
   "metadata": {
    "colab": {
     "base_uri": "https://localhost:8080/",
     "height": 204
    },
    "colab_type": "code",
    "id": "QMcvtZrWPLNM",
    "outputId": "180cc281-cfde-4f30-e657-0d7694d39a7e"
   },
   "outputs": [
    {
     "data": {
      "text/html": [
       "<div>\n",
       "<style scoped>\n",
       "    .dataframe tbody tr th:only-of-type {\n",
       "        vertical-align: middle;\n",
       "    }\n",
       "\n",
       "    .dataframe tbody tr th {\n",
       "        vertical-align: top;\n",
       "    }\n",
       "\n",
       "    .dataframe thead th {\n",
       "        text-align: right;\n",
       "    }\n",
       "</style>\n",
       "<table border=\"1\" class=\"dataframe\">\n",
       "  <thead>\n",
       "    <tr style=\"text-align: right;\">\n",
       "      <th></th>\n",
       "      <th>desc</th>\n",
       "      <th>quantity</th>\n",
       "    </tr>\n",
       "  </thead>\n",
       "  <tbody>\n",
       "    <tr>\n",
       "      <td>5167</td>\n",
       "      <td>world war 2 gliders asstd designs</td>\n",
       "      <td>109169</td>\n",
       "    </tr>\n",
       "    <tr>\n",
       "      <td>5046</td>\n",
       "      <td>white hanging heart t-light holder</td>\n",
       "      <td>93640</td>\n",
       "    </tr>\n",
       "    <tr>\n",
       "      <td>295</td>\n",
       "      <td>assorted colour bird ornament</td>\n",
       "      <td>79913</td>\n",
       "    </tr>\n",
       "    <tr>\n",
       "      <td>2392</td>\n",
       "      <td>jumbo bag red retrospot</td>\n",
       "      <td>75759</td>\n",
       "    </tr>\n",
       "    <tr>\n",
       "      <td>752</td>\n",
       "      <td>brocade ring purse</td>\n",
       "      <td>71129</td>\n",
       "    </tr>\n",
       "  </tbody>\n",
       "</table>\n",
       "</div>"
      ],
      "text/plain": [
       "                                    desc  quantity\n",
       "5167   world war 2 gliders asstd designs    109169\n",
       "5046  white hanging heart t-light holder     93640\n",
       "295        assorted colour bird ornament     79913\n",
       "2392             jumbo bag red retrospot     75759\n",
       "752                  brocade ring purse      71129"
      ]
     },
     "execution_count": 49,
     "metadata": {},
     "output_type": "execute_result"
    }
   ],
   "source": [
    "q_item.sort_values(by = 'quantity', ascending = False).head()"
   ]
  },
  {
   "cell_type": "markdown",
   "metadata": {},
   "source": [
    "Sort the quantity of items sold per month in descending order from the retail DataFrame:"
   ]
  },
  {
   "cell_type": "code",
   "execution_count": 50,
   "metadata": {
    "colab": {
     "base_uri": "https://localhost:8080/",
     "height": 204
    },
    "colab_type": "code",
    "id": "4Pe1xcQnPLNP",
    "outputId": "de550c1d-3e42-495a-863b-4f9958df3d8f"
   },
   "outputs": [
    {
     "data": {
      "text/html": [
       "<div>\n",
       "<style scoped>\n",
       "    .dataframe tbody tr th:only-of-type {\n",
       "        vertical-align: middle;\n",
       "    }\n",
       "\n",
       "    .dataframe tbody tr th {\n",
       "        vertical-align: top;\n",
       "    }\n",
       "\n",
       "    .dataframe thead th {\n",
       "        text-align: right;\n",
       "    }\n",
       "</style>\n",
       "<table border=\"1\" class=\"dataframe\">\n",
       "  <thead>\n",
       "    <tr style=\"text-align: right;\">\n",
       "      <th></th>\n",
       "      <th>desc</th>\n",
       "      <th>year_month</th>\n",
       "      <th>quantity</th>\n",
       "    </tr>\n",
       "  </thead>\n",
       "  <tbody>\n",
       "    <tr>\n",
       "      <td>5516</td>\n",
       "      <td>black and white paisley flower mug</td>\n",
       "      <td>201002</td>\n",
       "      <td>19248</td>\n",
       "    </tr>\n",
       "    <tr>\n",
       "      <td>8835</td>\n",
       "      <td>brocade ring purse</td>\n",
       "      <td>201009</td>\n",
       "      <td>13853</td>\n",
       "    </tr>\n",
       "    <tr>\n",
       "      <td>50510</td>\n",
       "      <td>set/6 woodland paper plates</td>\n",
       "      <td>201003</td>\n",
       "      <td>13099</td>\n",
       "    </tr>\n",
       "    <tr>\n",
       "      <td>50502</td>\n",
       "      <td>set/6 woodland paper cups</td>\n",
       "      <td>201003</td>\n",
       "      <td>13062</td>\n",
       "    </tr>\n",
       "    <tr>\n",
       "      <td>50468</td>\n",
       "      <td>set/6 strawberry paper cups</td>\n",
       "      <td>201003</td>\n",
       "      <td>13009</td>\n",
       "    </tr>\n",
       "  </tbody>\n",
       "</table>\n",
       "</div>"
      ],
      "text/plain": [
       "                                     desc  year_month  quantity\n",
       "5516   black and white paisley flower mug      201002     19248\n",
       "8835                  brocade ring purse       201009     13853\n",
       "50510         set/6 woodland paper plates      201003     13099\n",
       "50502           set/6 woodland paper cups      201003     13062\n",
       "50468         set/6 strawberry paper cups      201003     13009"
      ]
     },
     "execution_count": 50,
     "metadata": {},
     "output_type": "execute_result"
    }
   ],
   "source": [
    "item_month = retail.groupby(by = ['desc', 'year_month'], as_index = False)['quantity'].sum()\n",
    "item_month.sort_values(by = 'quantity', ascending = False).head()"
   ]
  },
  {
   "cell_type": "markdown",
   "metadata": {},
   "source": [
    "Similarly, sort the most sold items of the week in descending order from the retail DataFrame:"
   ]
  },
  {
   "cell_type": "code",
   "execution_count": 51,
   "metadata": {
    "colab": {
     "base_uri": "https://localhost:8080/",
     "height": 204
    },
    "colab_type": "code",
    "id": "-84fROuqPLNR",
    "outputId": "36b53505-c9eb-4f7f-93cc-006eceeeb9be"
   },
   "outputs": [
    {
     "data": {
      "text/html": [
       "<div>\n",
       "<style scoped>\n",
       "    .dataframe tbody tr th:only-of-type {\n",
       "        vertical-align: middle;\n",
       "    }\n",
       "\n",
       "    .dataframe tbody tr th {\n",
       "        vertical-align: top;\n",
       "    }\n",
       "\n",
       "    .dataframe thead th {\n",
       "        text-align: right;\n",
       "    }\n",
       "</style>\n",
       "<table border=\"1\" class=\"dataframe\">\n",
       "  <thead>\n",
       "    <tr style=\"text-align: right;\">\n",
       "      <th></th>\n",
       "      <th>desc</th>\n",
       "      <th>day_of_week</th>\n",
       "      <th>quantity</th>\n",
       "    </tr>\n",
       "  </thead>\n",
       "  <tbody>\n",
       "    <tr>\n",
       "      <td>27691</td>\n",
       "      <td>world war 2 gliders asstd designs</td>\n",
       "      <td>4</td>\n",
       "      <td>33334</td>\n",
       "    </tr>\n",
       "    <tr>\n",
       "      <td>1596</td>\n",
       "      <td>assorted colour bird ornament</td>\n",
       "      <td>4</td>\n",
       "      <td>22480</td>\n",
       "    </tr>\n",
       "    <tr>\n",
       "      <td>27048</td>\n",
       "      <td>white hanging heart t-light holder</td>\n",
       "      <td>2</td>\n",
       "      <td>20900</td>\n",
       "    </tr>\n",
       "    <tr>\n",
       "      <td>27050</td>\n",
       "      <td>white hanging heart t-light holder</td>\n",
       "      <td>4</td>\n",
       "      <td>20373</td>\n",
       "    </tr>\n",
       "    <tr>\n",
       "      <td>3966</td>\n",
       "      <td>brocade ring purse</td>\n",
       "      <td>5</td>\n",
       "      <td>19842</td>\n",
       "    </tr>\n",
       "  </tbody>\n",
       "</table>\n",
       "</div>"
      ],
      "text/plain": [
       "                                     desc  day_of_week  quantity\n",
       "27691   world war 2 gliders asstd designs            4     33334\n",
       "1596        assorted colour bird ornament            4     22480\n",
       "27048  white hanging heart t-light holder            2     20900\n",
       "27050  white hanging heart t-light holder            4     20373\n",
       "3966                  brocade ring purse             5     19842"
      ]
     },
     "execution_count": 51,
     "metadata": {},
     "output_type": "execute_result"
    }
   ],
   "source": [
    "item_dayofweek = retail.groupby(by = ['desc', 'day_of_week'], as_index = False)['quantity'].sum()\n",
    "item_dayofweek.sort_values(by = 'quantity', ascending = False).head()"
   ]
  },
  {
   "cell_type": "markdown",
   "metadata": {},
   "source": [
    "Finding out which item is the most sold item across all countries"
   ]
  },
  {
   "cell_type": "code",
   "execution_count": 52,
   "metadata": {
    "colab": {
     "base_uri": "https://localhost:8080/",
     "height": 204
    },
    "colab_type": "code",
    "id": "CUGIb0_wPLNU",
    "outputId": "06b29faa-bef2-4edd-ee8b-65bdb4c99207"
   },
   "outputs": [
    {
     "data": {
      "text/html": [
       "<div>\n",
       "<style scoped>\n",
       "    .dataframe tbody tr th:only-of-type {\n",
       "        vertical-align: middle;\n",
       "    }\n",
       "\n",
       "    .dataframe tbody tr th {\n",
       "        vertical-align: top;\n",
       "    }\n",
       "\n",
       "    .dataframe thead th {\n",
       "        text-align: right;\n",
       "    }\n",
       "</style>\n",
       "<table border=\"1\" class=\"dataframe\">\n",
       "  <thead>\n",
       "    <tr style=\"text-align: right;\">\n",
       "      <th></th>\n",
       "      <th>desc</th>\n",
       "      <th>country</th>\n",
       "      <th>quantity</th>\n",
       "    </tr>\n",
       "  </thead>\n",
       "  <tbody>\n",
       "    <tr>\n",
       "      <td>28897</td>\n",
       "      <td>world war 2 gliders asstd designs</td>\n",
       "      <td>United Kingdom</td>\n",
       "      <td>100720</td>\n",
       "    </tr>\n",
       "    <tr>\n",
       "      <td>28184</td>\n",
       "      <td>white hanging heart t-light holder</td>\n",
       "      <td>United Kingdom</td>\n",
       "      <td>86327</td>\n",
       "    </tr>\n",
       "    <tr>\n",
       "      <td>1637</td>\n",
       "      <td>assorted colour bird ornament</td>\n",
       "      <td>United Kingdom</td>\n",
       "      <td>74256</td>\n",
       "    </tr>\n",
       "    <tr>\n",
       "      <td>3800</td>\n",
       "      <td>brocade ring purse</td>\n",
       "      <td>United Kingdom</td>\n",
       "      <td>70725</td>\n",
       "    </tr>\n",
       "    <tr>\n",
       "      <td>12697</td>\n",
       "      <td>jumbo bag red retrospot</td>\n",
       "      <td>United Kingdom</td>\n",
       "      <td>69011</td>\n",
       "    </tr>\n",
       "  </tbody>\n",
       "</table>\n",
       "</div>"
      ],
      "text/plain": [
       "                                     desc         country  quantity\n",
       "28897   world war 2 gliders asstd designs  United Kingdom    100720\n",
       "28184  white hanging heart t-light holder  United Kingdom     86327\n",
       "1637        assorted colour bird ornament  United Kingdom     74256\n",
       "3800                  brocade ring purse   United Kingdom     70725\n",
       "12697             jumbo bag red retrospot  United Kingdom     69011"
      ]
     },
     "execution_count": 52,
     "metadata": {},
     "output_type": "execute_result"
    }
   ],
   "source": [
    "item_coun = retail.groupby(by = ['desc', 'country'], as_index = False)['quantity'].sum()\n",
    "item_coun.sort_values(by = 'quantity', ascending = False).head()"
   ]
  },
  {
   "cell_type": "markdown",
   "metadata": {},
   "source": [
    "Now, sort the items based on customer ID, stock code, and date:"
   ]
  },
  {
   "cell_type": "code",
   "execution_count": 53,
   "metadata": {
    "colab": {
     "base_uri": "https://localhost:8080/",
     "height": 204
    },
    "colab_type": "code",
    "id": "L_bjylG7PLNW",
    "outputId": "d5fad0ec-1cb4-409a-d721-0dd08b9885e1"
   },
   "outputs": [
    {
     "data": {
      "text/html": [
       "<div>\n",
       "<style scoped>\n",
       "    .dataframe tbody tr th:only-of-type {\n",
       "        vertical-align: middle;\n",
       "    }\n",
       "\n",
       "    .dataframe tbody tr th {\n",
       "        vertical-align: top;\n",
       "    }\n",
       "\n",
       "    .dataframe thead th {\n",
       "        text-align: right;\n",
       "    }\n",
       "</style>\n",
       "<table border=\"1\" class=\"dataframe\">\n",
       "  <thead>\n",
       "    <tr style=\"text-align: right;\">\n",
       "      <th></th>\n",
       "      <th></th>\n",
       "      <th>invoice</th>\n",
       "      <th>country</th>\n",
       "      <th>cust_id</th>\n",
       "      <th>stock_code</th>\n",
       "      <th>desc</th>\n",
       "      <th>quantity</th>\n",
       "      <th>unit_price</th>\n",
       "      <th>date</th>\n",
       "      <th>spent</th>\n",
       "      <th>year_month</th>\n",
       "      <th>year</th>\n",
       "      <th>month</th>\n",
       "      <th>day</th>\n",
       "      <th>day_of_week</th>\n",
       "      <th>hour</th>\n",
       "      <th>reorder</th>\n",
       "    </tr>\n",
       "  </thead>\n",
       "  <tbody>\n",
       "    <tr>\n",
       "      <td rowspan=\"5\" valign=\"top\">09-10</td>\n",
       "      <td>107803</td>\n",
       "      <td>499763</td>\n",
       "      <td>United Kingdom</td>\n",
       "      <td>12346.0</td>\n",
       "      <td>15056BL</td>\n",
       "      <td>edwardian parasol black</td>\n",
       "      <td>1</td>\n",
       "      <td>5.95</td>\n",
       "      <td>2010-03-02 13:08:00</td>\n",
       "      <td>5.95</td>\n",
       "      <td>201003</td>\n",
       "      <td>2010</td>\n",
       "      <td>3</td>\n",
       "      <td>2</td>\n",
       "      <td>2</td>\n",
       "      <td>13</td>\n",
       "      <td>0</td>\n",
       "    </tr>\n",
       "    <tr>\n",
       "      <td>107802</td>\n",
       "      <td>499763</td>\n",
       "      <td>United Kingdom</td>\n",
       "      <td>12346.0</td>\n",
       "      <td>15056N</td>\n",
       "      <td>edwardian parasol natural</td>\n",
       "      <td>1</td>\n",
       "      <td>5.95</td>\n",
       "      <td>2010-03-02 13:08:00</td>\n",
       "      <td>5.95</td>\n",
       "      <td>201003</td>\n",
       "      <td>2010</td>\n",
       "      <td>3</td>\n",
       "      <td>2</td>\n",
       "      <td>2</td>\n",
       "      <td>13</td>\n",
       "      <td>0</td>\n",
       "    </tr>\n",
       "    <tr>\n",
       "      <td>107804</td>\n",
       "      <td>499763</td>\n",
       "      <td>United Kingdom</td>\n",
       "      <td>12346.0</td>\n",
       "      <td>15056P</td>\n",
       "      <td>edwardian parasol pink</td>\n",
       "      <td>1</td>\n",
       "      <td>5.95</td>\n",
       "      <td>2010-03-02 13:08:00</td>\n",
       "      <td>5.95</td>\n",
       "      <td>201003</td>\n",
       "      <td>2010</td>\n",
       "      <td>3</td>\n",
       "      <td>2</td>\n",
       "      <td>2</td>\n",
       "      <td>13</td>\n",
       "      <td>0</td>\n",
       "    </tr>\n",
       "    <tr>\n",
       "      <td>107801</td>\n",
       "      <td>499763</td>\n",
       "      <td>United Kingdom</td>\n",
       "      <td>12346.0</td>\n",
       "      <td>20679</td>\n",
       "      <td>edwardian parasol red</td>\n",
       "      <td>1</td>\n",
       "      <td>5.95</td>\n",
       "      <td>2010-03-02 13:08:00</td>\n",
       "      <td>5.95</td>\n",
       "      <td>201003</td>\n",
       "      <td>2010</td>\n",
       "      <td>3</td>\n",
       "      <td>2</td>\n",
       "      <td>2</td>\n",
       "      <td>13</td>\n",
       "      <td>0</td>\n",
       "    </tr>\n",
       "    <tr>\n",
       "      <td>107800</td>\n",
       "      <td>499763</td>\n",
       "      <td>United Kingdom</td>\n",
       "      <td>12346.0</td>\n",
       "      <td>20682</td>\n",
       "      <td>red spotty childs umbrella</td>\n",
       "      <td>1</td>\n",
       "      <td>3.25</td>\n",
       "      <td>2010-03-02 13:08:00</td>\n",
       "      <td>3.25</td>\n",
       "      <td>201003</td>\n",
       "      <td>2010</td>\n",
       "      <td>3</td>\n",
       "      <td>2</td>\n",
       "      <td>2</td>\n",
       "      <td>13</td>\n",
       "      <td>0</td>\n",
       "    </tr>\n",
       "  </tbody>\n",
       "</table>\n",
       "</div>"
      ],
      "text/plain": [
       "             invoice         country  cust_id stock_code  \\\n",
       "09-10 107803  499763  United Kingdom  12346.0    15056BL   \n",
       "      107802  499763  United Kingdom  12346.0     15056N   \n",
       "      107804  499763  United Kingdom  12346.0     15056P   \n",
       "      107801  499763  United Kingdom  12346.0      20679   \n",
       "      107800  499763  United Kingdom  12346.0      20682   \n",
       "\n",
       "                                    desc  quantity  unit_price  \\\n",
       "09-10 107803     edwardian parasol black         1        5.95   \n",
       "      107802   edwardian parasol natural         1        5.95   \n",
       "      107804      edwardian parasol pink         1        5.95   \n",
       "      107801       edwardian parasol red         1        5.95   \n",
       "      107800  red spotty childs umbrella         1        3.25   \n",
       "\n",
       "                            date  spent  year_month  year  month  day  \\\n",
       "09-10 107803 2010-03-02 13:08:00   5.95      201003  2010      3    2   \n",
       "      107802 2010-03-02 13:08:00   5.95      201003  2010      3    2   \n",
       "      107804 2010-03-02 13:08:00   5.95      201003  2010      3    2   \n",
       "      107801 2010-03-02 13:08:00   5.95      201003  2010      3    2   \n",
       "      107800 2010-03-02 13:08:00   3.25      201003  2010      3    2   \n",
       "\n",
       "              day_of_week  hour  reorder  \n",
       "09-10 107803            2    13        0  \n",
       "      107802            2    13        0  \n",
       "      107804            2    13        0  \n",
       "      107801            2    13        0  \n",
       "      107800            2    13        0  "
      ]
     },
     "execution_count": 53,
     "metadata": {},
     "output_type": "execute_result"
    }
   ],
   "source": [
    "retail_sort = retail.sort_values(['cust_id', 'stock_code', 'date'])\n",
    "retail_sort_shift1 = retail_sort.shift(1)\n",
    "retail_sort_reorder = retail_sort.copy()\n",
    "\n",
    "retail_sort_reorder['reorder'] = np.where(retail_sort['stock_code'] == retail_sort_shift1['stock_code'], 1, 0)\n",
    "retail_sort_reorder.head()"
   ]
  },
  {
   "cell_type": "markdown",
   "metadata": {},
   "source": [
    "Create a new DataFrame for the reordered items:"
   ]
  },
  {
   "cell_type": "code",
   "execution_count": 54,
   "metadata": {
    "colab": {
     "base_uri": "https://localhost:8080/",
     "height": 235
    },
    "colab_type": "code",
    "id": "XSBVj2VoPLNX",
    "outputId": "531bdb04-0220-42a8-bcd6-91aaac8138b8"
   },
   "outputs": [
    {
     "data": {
      "text/html": [
       "<div>\n",
       "<style scoped>\n",
       "    .dataframe tbody tr th:only-of-type {\n",
       "        vertical-align: middle;\n",
       "    }\n",
       "\n",
       "    .dataframe tbody tr th {\n",
       "        vertical-align: top;\n",
       "    }\n",
       "\n",
       "    .dataframe thead th {\n",
       "        text-align: right;\n",
       "    }\n",
       "</style>\n",
       "<table border=\"1\" class=\"dataframe\">\n",
       "  <thead>\n",
       "    <tr style=\"text-align: right;\">\n",
       "      <th></th>\n",
       "      <th>reorder</th>\n",
       "    </tr>\n",
       "    <tr>\n",
       "      <th>desc</th>\n",
       "      <th></th>\n",
       "    </tr>\n",
       "  </thead>\n",
       "  <tbody>\n",
       "    <tr>\n",
       "      <td>white hanging heart t-light holder</td>\n",
       "      <td>3691</td>\n",
       "    </tr>\n",
       "    <tr>\n",
       "      <td>jumbo bag red retrospot</td>\n",
       "      <td>2120</td>\n",
       "    </tr>\n",
       "    <tr>\n",
       "      <td>regency cakestand 3 tier</td>\n",
       "      <td>2114</td>\n",
       "    </tr>\n",
       "    <tr>\n",
       "      <td>assorted colour bird ornament</td>\n",
       "      <td>1767</td>\n",
       "    </tr>\n",
       "    <tr>\n",
       "      <td>postage</td>\n",
       "      <td>1434</td>\n",
       "    </tr>\n",
       "  </tbody>\n",
       "</table>\n",
       "</div>"
      ],
      "text/plain": [
       "                                    reorder\n",
       "desc                                       \n",
       "white hanging heart t-light holder     3691\n",
       "jumbo bag red retrospot                2120\n",
       "regency cakestand 3 tier               2114\n",
       "assorted colour bird ornament          1767\n",
       "postage                                1434"
      ]
     },
     "execution_count": 54,
     "metadata": {},
     "output_type": "execute_result"
    }
   ],
   "source": [
    "rsr = pd.DataFrame((retail_sort_reorder.groupby('desc')['reorder'].sum())).sort_values('reorder', ascending = False)\n",
    "rsr.head()"
   ]
  },
  {
   "cell_type": "markdown",
   "metadata": {},
   "source": [
    "Sort the reordered items in descending order of quantity:"
   ]
  },
  {
   "cell_type": "code",
   "execution_count": 55,
   "metadata": {
    "colab": {
     "base_uri": "https://localhost:8080/",
     "height": 359
    },
    "colab_type": "code",
    "id": "iZe8WtFnPLNa",
    "outputId": "33b7e5a1-b6a6-490c-f4f6-350d540545d6"
   },
   "outputs": [
    {
     "data": {
      "text/html": [
       "<div>\n",
       "<style scoped>\n",
       "    .dataframe tbody tr th:only-of-type {\n",
       "        vertical-align: middle;\n",
       "    }\n",
       "\n",
       "    .dataframe tbody tr th {\n",
       "        vertical-align: top;\n",
       "    }\n",
       "\n",
       "    .dataframe thead th {\n",
       "        text-align: right;\n",
       "    }\n",
       "</style>\n",
       "<table border=\"1\" class=\"dataframe\">\n",
       "  <thead>\n",
       "    <tr style=\"text-align: right;\">\n",
       "      <th></th>\n",
       "      <th>unit_price</th>\n",
       "      <th>quantity</th>\n",
       "    </tr>\n",
       "  </thead>\n",
       "  <tbody>\n",
       "    <tr>\n",
       "      <td>93</td>\n",
       "      <td>1.25</td>\n",
       "      <td>1038743</td>\n",
       "    </tr>\n",
       "    <tr>\n",
       "      <td>37</td>\n",
       "      <td>0.42</td>\n",
       "      <td>975149</td>\n",
       "    </tr>\n",
       "    <tr>\n",
       "      <td>116</td>\n",
       "      <td>1.65</td>\n",
       "      <td>785515</td>\n",
       "    </tr>\n",
       "    <tr>\n",
       "      <td>67</td>\n",
       "      <td>0.85</td>\n",
       "      <td>727418</td>\n",
       "    </tr>\n",
       "    <tr>\n",
       "      <td>101</td>\n",
       "      <td>1.45</td>\n",
       "      <td>469900</td>\n",
       "    </tr>\n",
       "    <tr>\n",
       "      <td>169</td>\n",
       "      <td>2.55</td>\n",
       "      <td>394637</td>\n",
       "    </tr>\n",
       "    <tr>\n",
       "      <td>185</td>\n",
       "      <td>2.95</td>\n",
       "      <td>337905</td>\n",
       "    </tr>\n",
       "    <tr>\n",
       "      <td>82</td>\n",
       "      <td>1.06</td>\n",
       "      <td>333979</td>\n",
       "    </tr>\n",
       "    <tr>\n",
       "      <td>142</td>\n",
       "      <td>2.10</td>\n",
       "      <td>325789</td>\n",
       "    </tr>\n",
       "    <tr>\n",
       "      <td>44</td>\n",
       "      <td>0.55</td>\n",
       "      <td>309178</td>\n",
       "    </tr>\n",
       "  </tbody>\n",
       "</table>\n",
       "</div>"
      ],
      "text/plain": [
       "     unit_price  quantity\n",
       "93         1.25   1038743\n",
       "37         0.42    975149\n",
       "116        1.65    785515\n",
       "67         0.85    727418\n",
       "101        1.45    469900\n",
       "169        2.55    394637\n",
       "185        2.95    337905\n",
       "82         1.06    333979\n",
       "142        2.10    325789\n",
       "44         0.55    309178"
      ]
     },
     "execution_count": 55,
     "metadata": {},
     "output_type": "execute_result"
    }
   ],
   "source": [
    "q_up = retail.groupby(by = ['unit_price'], as_index = False)['quantity'].sum()\n",
    "q_up.sort_values('quantity', ascending = False).head(10)"
   ]
  },
  {
   "cell_type": "markdown",
   "metadata": {},
   "source": [
    "Form an array to display the correlation coefficients for unit_price and quantity columns:"
   ]
  },
  {
   "cell_type": "code",
   "execution_count": 56,
   "metadata": {
    "colab": {
     "base_uri": "https://localhost:8080/",
     "height": 51
    },
    "colab_type": "code",
    "id": "FvxtX_uePLNb",
    "outputId": "b5c430b6-af24-4975-9531-cfeda5b91688"
   },
   "outputs": [
    {
     "data": {
      "text/plain": [
       "array([[ 1.        , -0.00923511],\n",
       "       [-0.00923511,  1.        ]])"
      ]
     },
     "execution_count": 56,
     "metadata": {},
     "output_type": "execute_result"
    }
   ],
   "source": [
    "up_arr = np.array(retail.unit_price)\n",
    "q_arr = np.array(retail.quantity)\n",
    "\n",
    "np.corrcoef(up_arr, q_arr)"
   ]
  },
  {
   "cell_type": "markdown",
   "metadata": {},
   "source": [
    "Determine which countries the customers who placed the minimum number of orders are from:"
   ]
  },
  {
   "cell_type": "code",
   "execution_count": 57,
   "metadata": {
    "colab": {
     "base_uri": "https://localhost:8080/",
     "height": 136
    },
    "colab_type": "code",
    "id": "ScPDyfCNPLNd",
    "outputId": "fc126bd1-5d29-45cf-c57f-478b4129b8db"
   },
   "outputs": [
    {
     "data": {
      "text/plain": [
       "country\n",
       "Saudi Arabia       9\n",
       "Czech Republic    25\n",
       "Nigeria           30\n",
       "Lebanon           45\n",
       "Korea             53\n",
       "Name: invoice, dtype: int64"
      ]
     },
     "execution_count": 57,
     "metadata": {},
     "output_type": "execute_result"
    }
   ],
   "source": [
    "ord_coun = retail.groupby(['country'])['invoice'].count().sort_values()\n",
    "ord_coun.head()"
   ]
  },
  {
   "cell_type": "markdown",
   "metadata": {},
   "source": [
    "Plot the graph to visualize the preceding output:"
   ]
  },
  {
   "cell_type": "code",
   "execution_count": 58,
   "metadata": {
    "colab": {
     "base_uri": "https://localhost:8080/",
     "height": 472
    },
    "colab_type": "code",
    "id": "ui1D4-WlPLNf",
    "outputId": "9954747a-cc4b-41f5-ac73-8bd9813e7d2a"
   },
   "outputs": [
    {
     "data": {
      "image/png": "[encoded data removed]",
      "text/plain": [
       "<Figure size 1080x432 with 1 Axes>"
      ]
     },
     "metadata": {
      "needs_background": "light"
     },
     "output_type": "display_data"
    }
   ],
   "source": [
    "ocoun = ord_coun.plot(kind='barh', figsize = (15, 6))\n",
    "ocoun.set_xlabel('Number of Orders')\n",
    "ocoun.set_ylabel('Country')\n",
    "ocoun.set_title('Orders per Country')\n",
    "plt.show()     "
   ]
  },
  {
   "cell_type": "markdown",
   "metadata": {},
   "source": [
    "Delete the count of orders from United Kingdom as follows:"
   ]
  },
  {
   "cell_type": "code",
   "execution_count": 59,
   "metadata": {
    "colab": {},
    "colab_type": "code",
    "id": "aW3OZ7d8PLNj"
   },
   "outputs": [],
   "source": [
    "del ord_coun['United Kingdom']"
   ]
  },
  {
   "cell_type": "markdown",
   "metadata": {},
   "source": [
    "Now plot the graph again:"
   ]
  },
  {
   "cell_type": "code",
   "execution_count": 60,
   "metadata": {
    "colab": {
     "base_uri": "https://localhost:8080/",
     "height": 472
    },
    "colab_type": "code",
    "id": "IrMpcSsCPLNl",
    "outputId": "eec9fa0a-b18d-4643-e027-4d3920521e1f"
   },
   "outputs": [
    {
     "data": {
      "image/png": "[encoded data removed]",
      "text/plain": [
       "<Figure size 1080x432 with 1 Axes>"
      ]
     },
     "metadata": {
      "needs_background": "light"
     },
     "output_type": "display_data"
    }
   ],
   "source": [
    "ocoun2 = ord_coun.plot(kind='barh', figsize = (15, 6))\n",
    "ocoun2.set_xlabel('Number of Orders')\n",
    "ocoun2.set_ylabel('Country')\n",
    "ocoun2.set_title('Orders per Country')\n",
    "plt.show() "
   ]
  },
  {
   "cell_type": "markdown",
   "metadata": {},
   "source": [
    "Find out the country with the most money spent on orders:"
   ]
  },
  {
   "cell_type": "code",
   "execution_count": 61,
   "metadata": {
    "colab": {
     "base_uri": "https://localhost:8080/",
     "height": 472
    },
    "colab_type": "code",
    "id": "ABxY8d0sPLNp",
    "outputId": "1db8634d-8ceb-4e8c-cceb-107fd146b494"
   },
   "outputs": [
    {
     "data": {
      "image/png": "[encoded data removed]",
      "text/plain": [
       "<Figure size 1080x432 with 1 Axes>"
      ]
     },
     "metadata": {
      "needs_background": "light"
     },
     "output_type": "display_data"
    }
   ],
   "source": [
    "coun_spent = retail.groupby('country')['spent'].sum().sort_values()\n",
    "\n",
    "cs = coun_spent.plot(kind='barh', figsize = (15, 6))\n",
    "cs.set_xlabel('Amount Spent')\n",
    "cs.set_ylabel('Country')\n",
    "cs.set_title('Amount Spent per Country')\n",
    "plt.show() "
   ]
  },
  {
   "cell_type": "markdown",
   "metadata": {},
   "source": [
    "Delete the values for United Kingdom in the DataFrame and visualize the output in a graph:"
   ]
  },
  {
   "cell_type": "code",
   "execution_count": 62,
   "metadata": {
    "colab": {
     "base_uri": "https://localhost:8080/",
     "height": 472
    },
    "colab_type": "code",
    "id": "ZtS8yWucPLNr",
    "outputId": "fb5fc434-b711-4e09-b7b2-f69fa59d4c8c"
   },
   "outputs": [
    {
     "data": {
      "image/png": "[encoded data removed]",
      "text/plain": [
       "<Figure size 1080x432 with 1 Axes>"
      ]
     },
     "metadata": {
      "needs_background": "light"
     },
     "output_type": "display_data"
    }
   ],
   "source": [
    "del coun_spent['United Kingdom']\n",
    "\n",
    "cs2 = coun_spent.plot(kind='barh', figsize = (15, 6))\n",
    "cs2.set_xlabel('Amount Spent')\n",
    "cs2.set_ylabel('Country')\n",
    "cs2.set_title('Amount Spent per Country')\n",
    "plt.show() "
   ]
  }
 ],
 "metadata": {
  "colab": {
   "name": "Activity8.01 .ipynb",
   "provenance": []
  },
  "kernelspec": {
   "display_name": "Python 3",
   "language": "python",
   "name": "python3"
  },
  "language_info": {
   "codemirror_mode": {
    "name": "ipython",
    "version": 3
   },
   "file_extension": ".py",
   "mimetype": "text/x-python",
   "name": "python",
   "nbconvert_exporter": "python",
   "pygments_lexer": "ipython3",
   "version": "3.7.8"
  }
 },
 "nbformat": 4,
 "nbformat_minor": 1
}
